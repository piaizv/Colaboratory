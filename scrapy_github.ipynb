{
  "nbformat": 4,
  "nbformat_minor": 0,
  "metadata": {
    "colab": {
      "provenance": [],
      "toc_visible": true,
      "authorship_tag": "ABX9TyMGq7fTvJc5OyaT5vZFkkah",
      "include_colab_link": true
    },
    "kernelspec": {
      "name": "python3",
      "display_name": "Python 3"
    },
    "language_info": {
      "name": "python"
    }
  },
  "cells": [
    {
      "cell_type": "markdown",
      "metadata": {
        "id": "view-in-github",
        "colab_type": "text"
      },
      "source": [
        "<a href=\"https://colab.research.google.com/github/piaizv/Colaboratory/blob/main/scrapy_github.ipynb\" target=\"_parent\"><img src=\"https://colab.research.google.com/assets/colab-badge.svg\" alt=\"Open In Colab\"/></a>"
      ]
    },
    {
      "cell_type": "markdown",
      "source": [
        "# Creación del proyecto"
      ],
      "metadata": {
        "id": "pf52ZoDEgHjE"
      }
    },
    {
      "cell_type": "code",
      "execution_count": null,
      "metadata": {
        "id": "-JjL1SQFgDG5"
      },
      "outputs": [],
      "source": [
        "# instalación de Scrapy\n",
        "!pip install Scrapy"
      ]
    },
    {
      "cell_type": "code",
      "source": [
        "# creación del proyecto\n",
        "!scrapy startproject proyecto_generico scrapy_generico"
      ],
      "metadata": {
        "id": "CbPN2xf_gU5l"
      },
      "execution_count": null,
      "outputs": []
    },
    {
      "cell_type": "code",
      "source": [
        "# creación del spider\n",
        "!cd scrapy_generico/proyecto_generico && scrapy genspider generico https://www.example.com"
      ],
      "metadata": {
        "id": "ej1L2-6Bgnzq"
      },
      "execution_count": null,
      "outputs": []
    },
    {
      "cell_type": "markdown",
      "source": [
        "## Edición de scrapy_generico/proyecto_generico/settings.py\n",
        "\n",
        "\n",
        "\n",
        "*   USER_AGENT\n",
        "*   ROBOTSTXT_OBEY\n",
        "*   DEFAULT_REQUEST_HEADERS\n",
        "\n"
      ],
      "metadata": {
        "id": "NCJ62iCGibB0"
      }
    },
    {
      "cell_type": "code",
      "source": [
        "%%writefile scrapy_generico/proyecto_generico/settings.py\n",
        "\n",
        "# Scrapy settings for proyecto_generico project\n",
        "#\n",
        "# For simplicity, this file contains only settings considered important or\n",
        "# commonly used. You can find more settings consulting the documentation:\n",
        "#\n",
        "#     https://docs.scrapy.org/en/latest/topics/settings.html\n",
        "#     https://docs.scrapy.org/en/latest/topics/downloader-middleware.html\n",
        "#     https://docs.scrapy.org/en/latest/topics/spider-middleware.html\n",
        "\n",
        "BOT_NAME = 'proyecto_generico'\n",
        "\n",
        "SPIDER_MODULES = ['proyecto_generico.spiders']\n",
        "NEWSPIDER_MODULE = 'proyecto_generico.spiders'\n",
        "\n",
        "\n",
        "# Crawl responsibly by identifying yourself (and your website) on the user-agent\n",
        "USER_AGENT = 'Mozilla/5.0 (Windows NT 10.0; Win64; x64) AppleWebKit/537.36 (KHTML, like Gecko) Chrome/107.0.0.0 Safari/537.36'\n",
        "\n",
        "# Obey robots.txt rules\n",
        "ROBOTSTXT_OBEY = False\n",
        "\n",
        "# Configure maximum concurrent requests performed by Scrapy (default: 16)\n",
        "#CONCURRENT_REQUESTS = 32\n",
        "\n",
        "# Configure a delay for requests for the same website (default: 0)\n",
        "# See https://docs.scrapy.org/en/latest/topics/settings.html#download-delay\n",
        "# See also autothrottle settings and docs\n",
        "#DOWNLOAD_DELAY = 3\n",
        "# The download delay setting will honor only one of:\n",
        "#CONCURRENT_REQUESTS_PER_DOMAIN = 16\n",
        "#CONCURRENT_REQUESTS_PER_IP = 16\n",
        "\n",
        "# Disable cookies (enabled by default)\n",
        "#COOKIES_ENABLED = False\n",
        "\n",
        "# Disable Telnet Console (enabled by default)\n",
        "#TELNETCONSOLE_ENABLED = False\n",
        "\n",
        "# Override the default request headers:\n",
        "DEFAULT_REQUEST_HEADERS = {\n",
        "   'Accept': 'text/html,application/xhtml+xml,application/xml;q=0.9,*/*;q=0.8',\n",
        "   'Accept-Language': 'es',\n",
        "}\n",
        "\n",
        "# Enable or disable spider middlewares\n",
        "# See https://docs.scrapy.org/en/latest/topics/spider-middleware.html\n",
        "#SPIDER_MIDDLEWARES = {\n",
        "#    'proyecto_generico.middlewares.ProyectoGenericoSpiderMiddleware': 543,\n",
        "#}\n",
        "\n",
        "# Enable or disable downloader middlewares\n",
        "# See https://docs.scrapy.org/en/latest/topics/downloader-middleware.html\n",
        "#DOWNLOADER_MIDDLEWARES = {\n",
        "#    'proyecto_generico.middlewares.ProyectoGenericoDownloaderMiddleware': 543,\n",
        "#}\n",
        "\n",
        "# Enable or disable extensions\n",
        "# See https://docs.scrapy.org/en/latest/topics/extensions.html\n",
        "#EXTENSIONS = {\n",
        "#    'scrapy.extensions.telnet.TelnetConsole': None,\n",
        "#}\n",
        "\n",
        "# Configure item pipelines\n",
        "# See https://docs.scrapy.org/en/latest/topics/item-pipeline.html\n",
        "#ITEM_PIPELINES = {\n",
        "#    'proyecto_generico.pipelines.ProyectoGenericoPipeline': 300,\n",
        "#}\n",
        "\n",
        "# Enable and configure the AutoThrottle extension (disabled by default)\n",
        "# See https://docs.scrapy.org/en/latest/topics/autothrottle.html\n",
        "#AUTOTHROTTLE_ENABLED = True\n",
        "# The initial download delay\n",
        "#AUTOTHROTTLE_START_DELAY = 5\n",
        "# The maximum download delay to be set in case of high latencies\n",
        "#AUTOTHROTTLE_MAX_DELAY = 60\n",
        "# The average number of requests Scrapy should be sending in parallel to\n",
        "# each remote server\n",
        "#AUTOTHROTTLE_TARGET_CONCURRENCY = 1.0\n",
        "# Enable showing throttling stats for every response received:\n",
        "#AUTOTHROTTLE_DEBUG = False\n",
        "\n",
        "# Enable and configure HTTP caching (disabled by default)\n",
        "# See https://docs.scrapy.org/en/latest/topics/downloader-middleware.html#httpcache-middleware-settings\n",
        "#HTTPCACHE_ENABLED = True\n",
        "#HTTPCACHE_EXPIRATION_SECS = 0\n",
        "#HTTPCACHE_DIR = 'httpcache'\n",
        "#HTTPCACHE_IGNORE_HTTP_CODES = []\n",
        "#HTTPCACHE_STORAGE = 'scrapy.extensions.httpcache.FilesystemCacheStorage'\n",
        "\n",
        "# Set settings whose default value is deprecated to a future-proof value\n",
        "REQUEST_FINGERPRINTER_IMPLEMENTATION = '2.7'\n",
        "TWISTED_REACTOR = 'twisted.internet.asyncioreactor.AsyncioSelectorReactor'"
      ],
      "metadata": {
        "colab": {
          "base_uri": "https://localhost:8080/"
        },
        "id": "DOsSZIApg-6b",
        "outputId": "0db38ac3-40e3-43b5-9bcf-538f89f36208"
      },
      "execution_count": 4,
      "outputs": [
        {
          "output_type": "stream",
          "name": "stdout",
          "text": [
            "Overwriting scrapy_generico/proyecto_generico/settings.py\n"
          ]
        }
      ]
    },
    {
      "cell_type": "markdown",
      "source": [
        "## Ejecución del spider\n",
        "\n",
        "### No se debe ejecutar hasta que se haya implementado el spider."
      ],
      "metadata": {
        "id": "sJchdLIejozv"
      }
    },
    {
      "cell_type": "code",
      "source": [
        "!cd scrapy_generico/proyecto_generico && scrapy crawl generico -o generico.json"
      ],
      "metadata": {
        "id": "OcOEA-_0j35Z"
      },
      "execution_count": null,
      "outputs": []
    },
    {
      "cell_type": "markdown",
      "source": [
        "# Implementación del spider"
      ],
      "metadata": {
        "id": "Cq1PRakRkNaL"
      }
    },
    {
      "cell_type": "markdown",
      "source": [
        "## Versión inicial"
      ],
      "metadata": {
        "id": "xfymL2gXkWGJ"
      }
    },
    {
      "cell_type": "code",
      "source": [
        "%%writefile scrapy_generico/proyecto_generico/spiders/generico.py\n",
        "import scrapy\n",
        "\n",
        "class GenericoSpider(scrapy.Spider):\n",
        "    name = 'generico'\n",
        "    allowed_domains = ['www.example.com']\n",
        "    start_urls = ['https://www.example.com/']\n",
        "\n",
        "    def parse(self, response):\n",
        "      yield {\n",
        "        'resultado': response.request.url\n",
        "      }"
      ],
      "metadata": {
        "colab": {
          "base_uri": "https://localhost:8080/"
        },
        "id": "PEB06pi-kSfL",
        "outputId": "d9b498fb-c9a2-4c63-fd57-3acd60063940"
      },
      "execution_count": 6,
      "outputs": [
        {
          "output_type": "stream",
          "name": "stdout",
          "text": [
            "Overwriting scrapy_generico/proyecto_generico/spiders/generico.py\n"
          ]
        }
      ]
    },
    {
      "cell_type": "markdown",
      "source": [
        "## Versión modificada"
      ],
      "metadata": {
        "id": "8E0AtX1ulM6Z"
      }
    },
    {
      "cell_type": "code",
      "source": [
        "%%writefile scrapy_generico/proyecto_generico/spiders/generico.py\n",
        "import scrapy\n",
        "\n",
        "class GenericoSpider(scrapy.Spider):\n",
        "    name = 'generico'\n",
        "    allowed_domains = ['www.imdb.com']\n",
        "    start_urls = ['https://www.imdb.com/chart/top/?ref_=nv_mv_250']\n",
        "\n",
        "    def parse(self, response):\n",
        "      movies = response.css('.lister-list > tr > .titleColumn')\n",
        "      print('numero de peliculas:', len(movies))\n",
        "      for movie in movies:\n",
        "          title = movie.css('a::text').get()\n",
        "          href = movie.css('a::attr(href)').get()\n",
        "          href_2 = movie.css('a::attr(href)').extract()[0]\n",
        "          yield {\n",
        "              'title': title,\n",
        "              'href': href\n",
        "          }"
      ],
      "metadata": {
        "colab": {
          "base_uri": "https://localhost:8080/"
        },
        "id": "RwIV7tTolQfD",
        "outputId": "db1f9081-b9e3-4a5c-d881-0ea4798ad5d0"
      },
      "execution_count": 15,
      "outputs": [
        {
          "output_type": "stream",
          "name": "stdout",
          "text": [
            "Overwriting scrapy_generico/proyecto_generico/spiders/generico.py\n"
          ]
        }
      ]
    },
    {
      "cell_type": "markdown",
      "source": [
        "## Versiones adicionales"
      ],
      "metadata": {
        "id": "Ax7-CaQsnZDo"
      }
    },
    {
      "cell_type": "code",
      "source": [
        "# implementar un spider\n",
        "# que recorra una web paginada\n",
        "# y que visite cada uno de los enlaces\n",
        "# para extraer información\n",
        "# por ejemplo,\n",
        "# https://www.imdb.com/search/title/?genres=comedy&explore=title_type,genres\n",
        "# siguiente página: https://www.imdb.com/search/title/?genres=comedy&start=51&explore=title_type,genres&ref_=adv_nxt\n",
        "# siguiente página: https://www.imdb.com/search/title/?genres=comedy&start=101&explore=title_type,genres&ref_=adv_nxt\n",
        "# enlaces a visitar, los de cada película\n",
        "# https://www.imdb.com/title/tt13443470/?ref_=adv_li_tt\n",
        "# etc."
      ],
      "metadata": {
        "id": "bT44T-ISndKU"
      },
      "execution_count": 17,
      "outputs": []
    }
  ]
}