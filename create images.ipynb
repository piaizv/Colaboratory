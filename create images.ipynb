{
  "nbformat": 4,
  "nbformat_minor": 0,
  "metadata": {
    "colab": {
      "provenance": [],
      "toc_visible": true,
      "authorship_tag": "ABX9TyOJhZMWaDXft+JnQYYqhhBn",
      "include_colab_link": true
    },
    "kernelspec": {
      "name": "python3",
      "display_name": "Python 3"
    },
    "language_info": {
      "name": "python"
    }
  },
  "cells": [
    {
      "cell_type": "markdown",
      "metadata": {
        "id": "view-in-github",
        "colab_type": "text"
      },
      "source": [
        "<a href=\"https://colab.research.google.com/github/piaizv/Colaboratory/blob/main/create%20images.ipynb\" target=\"_parent\"><img src=\"https://colab.research.google.com/assets/colab-badge.svg\" alt=\"Open In Colab\"/></a>"
      ]
    },
    {
      "cell_type": "markdown",
      "source": [
        "# Working with images"
      ],
      "metadata": {
        "id": "HzGh7jQ9U3Gm"
      }
    },
    {
      "cell_type": "markdown",
      "source": [
        "## Create an image pixel by pixel: Image.new()"
      ],
      "metadata": {
        "id": "6hu4mqqTVB74"
      }
    },
    {
      "cell_type": "code",
      "execution_count": null,
      "metadata": {
        "colab": {
          "base_uri": "https://localhost:8080/",
          "height": 145
        },
        "id": "1WAMyDCRU0b5",
        "outputId": "4f13ffd2-56e6-4a17-cd25-b957b812642b"
      },
      "outputs": [
        {
          "output_type": "execute_result",
          "data": {
            "text/plain": [
              "<PIL.Image.Image image mode=RGB size=128x128 at 0x7FB4EB92D150>"
            ],
            "image/png": "[encoded data removed]"
          },
          "metadata": {},
          "execution_count": 1
        }
      ],
      "source": [
        "from PIL import Image\n",
        "\n",
        "img = Image.new('RGB', (128, 128))\n",
        "\n",
        "for i in range(0, img.size[0]):\n",
        "  for j in range(0, img.size[1]):\n",
        "    img.putpixel((i, j), (255, 0, 0))\n",
        "\n",
        "img"
      ]
    },
    {
      "cell_type": "markdown",
      "source": [
        "## Create an image pixel by pixel: Image.fromarray()"
      ],
      "metadata": {
        "id": "_SMfPVwDVbUV"
      }
    },
    {
      "cell_type": "code",
      "source": [
        "from PIL import Image\n",
        "import numpy as np\n",
        "\n",
        "# create a 128 x 128 x 3 array of 8 bit unsigned integers\n",
        "data = np.zeros((128, 128, 3), dtype = np.uint8 )\n",
        "\n",
        "for i in range(0, data.shape[0]):\n",
        "  for j in range(0, data.shape[1]):\n",
        "    data[i, j] = [255, 0, 0]\n",
        "\n",
        "img = Image.fromarray(data)\n",
        "\n",
        "img"
      ],
      "metadata": {
        "colab": {
          "base_uri": "https://localhost:8080/",
          "height": 145
        },
        "id": "SvYWi7gxVkbq",
        "outputId": "7f6be0bb-102e-47dc-f77e-c0852a340699"
      },
      "execution_count": null,
      "outputs": [
        {
          "output_type": "execute_result",
          "data": {
            "text/plain": [
              "<PIL.Image.Image image mode=RGB size=128x128 at 0x7FB4E9DE0690>"
            ],
            "image/png": "[encoded data removed]"
          },
          "metadata": {},
          "execution_count": 5
        }
      ]
    },
    {
      "cell_type": "markdown",
      "source": [
        "## Read an image from a file: Image.open()"
      ],
      "metadata": {
        "id": "cFQ6AyNpWEJf"
      }
    },
    {
      "cell_type": "code",
      "source": [
        "from PIL import Image\n",
        "\n",
        "img = Image.open('image.png')\n",
        "\n",
        "img"
      ],
      "metadata": {
        "id": "KKb1QOlPWEkk"
      },
      "execution_count": null,
      "outputs": []
    },
    {
      "cell_type": "markdown",
      "source": [
        "## Save an image in a file: img.save()"
      ],
      "metadata": {
        "id": "Q6lZDCgYX__F"
      }
    },
    {
      "cell_type": "code",
      "source": [
        "from PIL import Image\n",
        "\n",
        "# img is any of the created o readed images\n",
        "img.save('savedimage.png')"
      ],
      "metadata": {
        "id": "ST5vSMWEYEce"
      },
      "execution_count": null,
      "outputs": []
    },
    {
      "cell_type": "markdown",
      "source": [
        "## Convert an image in an array: np.asarray()"
      ],
      "metadata": {
        "id": "WfNM8cKvYX2C"
      }
    },
    {
      "cell_type": "code",
      "source": [
        "from PIL import Image\n",
        "import numpy as np\n",
        "\n",
        "img = Image.open('image.png')\n",
        "arr = np.asarray(img)\n",
        "\n",
        "print(arr.ndim, arr.itemsize, arr.size, arr.shape)"
      ],
      "metadata": {
        "colab": {
          "base_uri": "https://localhost:8080/"
        },
        "id": "xDUsqi_TYm6m",
        "outputId": "73002678-9a41-4837-bd0e-072dc0cc6788"
      },
      "execution_count": null,
      "outputs": [
        {
          "output_type": "stream",
          "name": "stdout",
          "text": [
            "3 1 7983048 (834, 2393, 4)\n"
          ]
        }
      ]
    },
    {
      "cell_type": "markdown",
      "source": [
        "## Resizing operations: img.resize(), img.reduce(), img.thumbnail()"
      ],
      "metadata": {
        "id": "otOeKkFNaCB-"
      }
    },
    {
      "cell_type": "code",
      "source": [
        "width = img.size[0]\n",
        "height = img.size[1]\n",
        "\n",
        "img = img.resize((width//2, height//3))\n",
        "\n",
        "img"
      ],
      "metadata": {
        "id": "IJ2LZCA6c74e"
      },
      "execution_count": null,
      "outputs": []
    },
    {
      "cell_type": "code",
      "source": [
        "img = img.reduce(5)\n",
        "\n",
        "img"
      ],
      "metadata": {
        "id": "MRQL_8akciNV"
      },
      "execution_count": null,
      "outputs": []
    },
    {
      "cell_type": "code",
      "source": [
        "width = img.size[0]\n",
        "height = img.size[1]\n",
        "\n",
        "img.thumbnail((int(width/2), int(height/3)))\n",
        "\n",
        "img"
      ],
      "metadata": {
        "id": "a_IZ2PHOaCiC"
      },
      "execution_count": null,
      "outputs": []
    },
    {
      "cell_type": "markdown",
      "source": [
        "## Random images"
      ],
      "metadata": {
        "id": "-i3OT64pfP74"
      }
    },
    {
      "cell_type": "code",
      "source": [
        "from PIL import Image\n",
        "from random import randint\n",
        "\n",
        "def random_image(size):\n",
        "    img = Image.new('RGB', (size, size))\n",
        "    for x in range(0, size):\n",
        "      for y in range(0, size):\n",
        "        img.putpixel((x,y), (randint(0, 255), randint(0, 255), randint(0, 255)))\n",
        "    return img\n",
        "\n",
        "img = random_image(100)\n",
        "\n",
        "img"
      ],
      "metadata": {
        "colab": {
          "base_uri": "https://localhost:8080/",
          "height": 117
        },
        "id": "M4D9X9CFfQUX",
        "outputId": "a430ee99-9f43-4e1f-9e5c-99f92fea2513"
      },
      "execution_count": null,
      "outputs": [
        {
          "output_type": "execute_result",
          "data": {
            "text/plain": [
              "<PIL.Image.Image image mode=RGB size=100x100 at 0x7FB4E9C86590>"
            ],
            "image/png": "[encoded data removed]"
          },
          "metadata": {},
          "execution_count": 41
        }
      ]
    },
    {
      "cell_type": "markdown",
      "source": [
        "## Geometric images"
      ],
      "metadata": {
        "id": "HiwNf4z5N85O"
      }
    },
    {
      "cell_type": "code",
      "source": [
        "from PIL import Image\n",
        "import numpy as np\n",
        "\n",
        "def squared_image(size, image = True):\n",
        "  data = np.zeros((size, size, 3), dtype = np.uint8 )\n",
        "  for x in range(0, data.shape[0]):\n",
        "    for y in range(0, data.shape[1]):\n",
        "      if x < size / 2 and y < size / 2:\n",
        "        color = (0, 0, 0)\n",
        "      elif x >= size / 2 and y < size / 2:\n",
        "        color = (255, 0, 127)\n",
        "      elif x < size / 2 and y >= size / 2:\n",
        "        color = (127, 127, 127)\n",
        "      else:\n",
        "        color = (127, 0, 255)\n",
        "      data[x, y] = color\n",
        "  if image:\n",
        "    return Image.fromarray(data)\n",
        "  else:\n",
        "    return data\n",
        "\n",
        "img = squared_image(100)\n",
        "\n",
        "img"
      ],
      "metadata": {
        "colab": {
          "base_uri": "https://localhost:8080/",
          "height": 117
        },
        "id": "Caq7l9t9f4lC",
        "outputId": "73e25fff-39d8-44e7-f746-1de2b7df1326"
      },
      "execution_count": null,
      "outputs": [
        {
          "output_type": "execute_result",
          "data": {
            "text/plain": [
              "<PIL.Image.Image image mode=RGB size=100x100 at 0x7FB4E14769D0>"
            ],
            "image/png": "[encoded data removed]"
          },
          "metadata": {},
          "execution_count": 49
        }
      ]
    },
    {
      "cell_type": "markdown",
      "source": [
        "## Vertical and horizontal stack"
      ],
      "metadata": {
        "id": "ejwKyPVTlIg9"
      }
    },
    {
      "cell_type": "code",
      "source": [
        "image = squared_image(100, False)\n",
        "\n",
        "vstack = np.vstack([image, image])\n",
        "img = Image.fromarray(vstack)\n",
        "\n",
        "img"
      ],
      "metadata": {
        "colab": {
          "base_uri": "https://localhost:8080/",
          "height": 217
        },
        "id": "WO54rXd2lJBQ",
        "outputId": "18025b62-39b7-48d3-d893-f4955d352df6"
      },
      "execution_count": null,
      "outputs": [
        {
          "output_type": "execute_result",
          "data": {
            "text/plain": [
              "<PIL.Image.Image image mode=RGB size=100x200 at 0x7FB4E13F19D0>"
            ],
            "image/png": "[encoded data removed]"
          },
          "metadata": {},
          "execution_count": 52
        }
      ]
    },
    {
      "cell_type": "code",
      "source": [
        "hstack = np.hstack([vstack, vstack])\n",
        "img = Image.fromarray(hstack)\n",
        "\n",
        "img"
      ],
      "metadata": {
        "colab": {
          "base_uri": "https://localhost:8080/",
          "height": 217
        },
        "id": "YNuQQ8scPCFo",
        "outputId": "8c7aa80b-fcae-4699-8d2a-8595fe21ac6e"
      },
      "execution_count": null,
      "outputs": [
        {
          "output_type": "execute_result",
          "data": {
            "text/plain": [
              "<PIL.Image.Image image mode=RGB size=200x200 at 0x7FB4E141BFD0>"
            ],
            "image/png": "[encoded data removed]"
          },
          "metadata": {},
          "execution_count": 53
        }
      ]
    },
    {
      "cell_type": "markdown",
      "source": [
        "## Slicing"
      ],
      "metadata": {
        "id": "9Mv8B81BRQ1J"
      }
    },
    {
      "cell_type": "code",
      "source": [
        "part = hstack[25:175, 25:175]\n",
        "img = Image.fromarray(part)\n",
        "\n",
        "img"
      ],
      "metadata": {
        "colab": {
          "base_uri": "https://localhost:8080/",
          "height": 167
        },
        "id": "RPfUaHTzQJPE",
        "outputId": "4db32f6a-c3be-432e-9659-edf27e8e8f71"
      },
      "execution_count": null,
      "outputs": [
        {
          "output_type": "execute_result",
          "data": {
            "text/plain": [
              "<PIL.Image.Image image mode=RGB size=150x150 at 0x7FB4E13ECE10>"
            ],
            "image/png": "[encoded data removed]"
          },
          "metadata": {},
          "execution_count": 56
        }
      ]
    }
  ]
}