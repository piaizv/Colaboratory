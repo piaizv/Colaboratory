{
  "nbformat": 4,
  "nbformat_minor": 0,
  "metadata": {
    "colab": {
      "provenance": [],
      "include_colab_link": true
    },
    "kernelspec": {
      "name": "python3",
      "display_name": "Python 3"
    },
    "language_info": {
      "name": "python"
    }
  },
  "cells": [
    {
      "cell_type": "markdown",
      "metadata": {
        "id": "view-in-github",
        "colab_type": "text"
      },
      "source": [
        "<a href=\"https://colab.research.google.com/github/piaizv/Colaboratory/blob/main/guardar_codificaciones_y_modelos.ipynb\" target=\"_parent\"><img src=\"https://colab.research.google.com/assets/colab-badge.svg\" alt=\"Open In Colab\"/></a>"
      ]
    },
    {
      "cell_type": "markdown",
      "source": [
        "# Datos\n",
        "\n",
        "1. Importaciones"
      ],
      "metadata": {
        "id": "rpPKtLp_UOFN"
      }
    },
    {
      "cell_type": "code",
      "execution_count": 1,
      "metadata": {
        "id": "k665sJDOGsqS"
      },
      "outputs": [],
      "source": [
        "from sklearn.feature_extraction import DictVectorizer\n",
        "from sklearn.model_selection import GridSearchCV\n",
        "from sklearn.preprocessing import LabelEncoder\n",
        "from sklearn.linear_model import LinearRegression\n",
        "import numpy as np\n",
        "import pandas as pd\n",
        "import pickle\n",
        "from sklearn.ensemble import RandomForestRegressor\n",
        "from sklearn.model_selection import train_test_split"
      ]
    },
    {
      "cell_type": "markdown",
      "source": [
        "2. Dataset"
      ],
      "metadata": {
        "id": "DKpXF6bdUYq7"
      }
    },
    {
      "cell_type": "code",
      "source": [
        "d = {'marca': ['opel', 'opel', 'vw', 'vw', 'opel'],\n",
        "     'modelo': ['corsa', 'astra', 'polo', 'polo', 'astra'],\n",
        "     'cv': [90, 110, 90, 85, 136],\n",
        "     'precio': [9000, 12000, 9500, 9400, 13000]}\n",
        "data = pd.DataFrame(data=d)\n",
        "data"
      ],
      "metadata": {
        "colab": {
          "base_uri": "https://localhost:8080/",
          "height": 206
        },
        "id": "9uUYVANCGvnm",
        "outputId": "aa6fd94f-9075-4eb8-fbef-45d7551fec03"
      },
      "execution_count": 2,
      "outputs": [
        {
          "output_type": "execute_result",
          "data": {
            "text/plain": [
              "  marca modelo   cv  precio\n",
              "0  opel  corsa   90    9000\n",
              "1  opel  astra  110   12000\n",
              "2    vw   polo   90    9500\n",
              "3    vw   polo   85    9400\n",
              "4  opel  astra  136   13000"
            ],
            "text/html": [
              "\n",
              "  <div id=\"df-2f1592c1-937b-4f39-99bb-9a9b7c73fe60\">\n",
              "    <div class=\"colab-df-container\">\n",
              "      <div>\n",
              "<style scoped>\n",
              "    .dataframe tbody tr th:only-of-type {\n",
              "        vertical-align: middle;\n",
              "    }\n",
              "\n",
              "    .dataframe tbody tr th {\n",
              "        vertical-align: top;\n",
              "    }\n",
              "\n",
              "    .dataframe thead th {\n",
              "        text-align: right;\n",
              "    }\n",
              "</style>\n",
              "<table border=\"1\" class=\"dataframe\">\n",
              "  <thead>\n",
              "    <tr style=\"text-align: right;\">\n",
              "      <th></th>\n",
              "      <th>marca</th>\n",
              "      <th>modelo</th>\n",
              "      <th>cv</th>\n",
              "      <th>precio</th>\n",
              "    </tr>\n",
              "  </thead>\n",
              "  <tbody>\n",
              "    <tr>\n",
              "      <th>0</th>\n",
              "      <td>opel</td>\n",
              "      <td>corsa</td>\n",
              "      <td>90</td>\n",
              "      <td>9000</td>\n",
              "    </tr>\n",
              "    <tr>\n",
              "      <th>1</th>\n",
              "      <td>opel</td>\n",
              "      <td>astra</td>\n",
              "      <td>110</td>\n",
              "      <td>12000</td>\n",
              "    </tr>\n",
              "    <tr>\n",
              "      <th>2</th>\n",
              "      <td>vw</td>\n",
              "      <td>polo</td>\n",
              "      <td>90</td>\n",
              "      <td>9500</td>\n",
              "    </tr>\n",
              "    <tr>\n",
              "      <th>3</th>\n",
              "      <td>vw</td>\n",
              "      <td>polo</td>\n",
              "      <td>85</td>\n",
              "      <td>9400</td>\n",
              "    </tr>\n",
              "    <tr>\n",
              "      <th>4</th>\n",
              "      <td>opel</td>\n",
              "      <td>astra</td>\n",
              "      <td>136</td>\n",
              "      <td>13000</td>\n",
              "    </tr>\n",
              "  </tbody>\n",
              "</table>\n",
              "</div>\n",
              "      <button class=\"colab-df-convert\" onclick=\"convertToInteractive('df-2f1592c1-937b-4f39-99bb-9a9b7c73fe60')\"\n",
              "              title=\"Convert this dataframe to an interactive table.\"\n",
              "              style=\"display:none;\">\n",
              "        \n",
              "  <svg xmlns=\"http://www.w3.org/2000/svg\" height=\"24px\"viewBox=\"0 0 24 24\"\n",
              "       width=\"24px\">\n",
              "    <path d=\"M0 0h24v24H0V0z\" fill=\"none\"/>\n",
              "    <path d=\"M18.56 5.44l.94 2.06.94-2.06 2.06-.94-2.06-.94-.94-2.06-.94 2.06-2.06.94zm-11 1L8.5 8.5l.94-2.06 2.06-.94-2.06-.94L8.5 2.5l-.94 2.06-2.06.94zm10 10l.94 2.06.94-2.06 2.06-.94-2.06-.94-.94-2.06-.94 2.06-2.06.94z\"/><path d=\"M17.41 7.96l-1.37-1.37c-.4-.4-.92-.59-1.43-.59-.52 0-1.04.2-1.43.59L10.3 9.45l-7.72 7.72c-.78.78-.78 2.05 0 2.83L4 21.41c.39.39.9.59 1.41.59.51 0 1.02-.2 1.41-.59l7.78-7.78 2.81-2.81c.8-.78.8-2.07 0-2.86zM5.41 20L4 18.59l7.72-7.72 1.47 1.35L5.41 20z\"/>\n",
              "  </svg>\n",
              "      </button>\n",
              "      \n",
              "  <style>\n",
              "    .colab-df-container {\n",
              "      display:flex;\n",
              "      flex-wrap:wrap;\n",
              "      gap: 12px;\n",
              "    }\n",
              "\n",
              "    .colab-df-convert {\n",
              "      background-color: #E8F0FE;\n",
              "      border: none;\n",
              "      border-radius: 50%;\n",
              "      cursor: pointer;\n",
              "      display: none;\n",
              "      fill: #1967D2;\n",
              "      height: 32px;\n",
              "      padding: 0 0 0 0;\n",
              "      width: 32px;\n",
              "    }\n",
              "\n",
              "    .colab-df-convert:hover {\n",
              "      background-color: #E2EBFA;\n",
              "      box-shadow: 0px 1px 2px rgba(60, 64, 67, 0.3), 0px 1px 3px 1px rgba(60, 64, 67, 0.15);\n",
              "      fill: #174EA6;\n",
              "    }\n",
              "\n",
              "    [theme=dark] .colab-df-convert {\n",
              "      background-color: #3B4455;\n",
              "      fill: #D2E3FC;\n",
              "    }\n",
              "\n",
              "    [theme=dark] .colab-df-convert:hover {\n",
              "      background-color: #434B5C;\n",
              "      box-shadow: 0px 1px 3px 1px rgba(0, 0, 0, 0.15);\n",
              "      filter: drop-shadow(0px 1px 2px rgba(0, 0, 0, 0.3));\n",
              "      fill: #FFFFFF;\n",
              "    }\n",
              "  </style>\n",
              "\n",
              "      <script>\n",
              "        const buttonEl =\n",
              "          document.querySelector('#df-2f1592c1-937b-4f39-99bb-9a9b7c73fe60 button.colab-df-convert');\n",
              "        buttonEl.style.display =\n",
              "          google.colab.kernel.accessAllowed ? 'block' : 'none';\n",
              "\n",
              "        async function convertToInteractive(key) {\n",
              "          const element = document.querySelector('#df-2f1592c1-937b-4f39-99bb-9a9b7c73fe60');\n",
              "          const dataTable =\n",
              "            await google.colab.kernel.invokeFunction('convertToInteractive',\n",
              "                                                     [key], {});\n",
              "          if (!dataTable) return;\n",
              "\n",
              "          const docLinkHtml = 'Like what you see? Visit the ' +\n",
              "            '<a target=\"_blank\" href=https://colab.research.google.com/notebooks/data_table.ipynb>data table notebook</a>'\n",
              "            + ' to learn more about interactive tables.';\n",
              "          element.innerHTML = '';\n",
              "          dataTable['output_type'] = 'display_data';\n",
              "          await google.colab.output.renderOutput(dataTable, element);\n",
              "          const docLink = document.createElement('div');\n",
              "          docLink.innerHTML = docLinkHtml;\n",
              "          element.appendChild(docLink);\n",
              "        }\n",
              "      </script>\n",
              "    </div>\n",
              "  </div>\n",
              "  "
            ]
          },
          "metadata": {},
          "execution_count": 2
        }
      ]
    },
    {
      "cell_type": "markdown",
      "source": [
        "3. Atributos"
      ],
      "metadata": {
        "id": "xKwwzyoWUtYR"
      }
    },
    {
      "cell_type": "code",
      "source": [
        "features = list(data)\n",
        "\n",
        "target = 'precio'\n",
        "\n",
        "numeric_features = data._get_numeric_data().columns.tolist()\n",
        "categorical_features = list(set(features) - set(numeric_features))\n",
        "\n",
        "numeric_features.remove(target)\n",
        "\n",
        "all_features = numeric_features + categorical_features"
      ],
      "metadata": {
        "id": "mzUNT9TRHQMn"
      },
      "execution_count": 3,
      "outputs": []
    },
    {
      "cell_type": "code",
      "source": [
        "print(features)\n",
        "print(numeric_features)\n",
        "print(categorical_features)\n",
        "print(all_features)\n",
        "print(target)"
      ],
      "metadata": {
        "colab": {
          "base_uri": "https://localhost:8080/"
        },
        "id": "myalQNGPHzD5",
        "outputId": "0e3a5961-a268-478f-f3b2-60f5b70f3666"
      },
      "execution_count": 4,
      "outputs": [
        {
          "output_type": "stream",
          "name": "stdout",
          "text": [
            "['marca', 'modelo', 'cv', 'precio']\n",
            "['cv']\n",
            "['marca', 'modelo']\n",
            "['cv', 'marca', 'modelo']\n",
            "precio\n"
          ]
        }
      ]
    },
    {
      "cell_type": "markdown",
      "source": [
        "# LinearRegression y DictVectorizer (one hot encoding)"
      ],
      "metadata": {
        "id": "KiT9j8LqobGA"
      }
    },
    {
      "cell_type": "code",
      "source": [
        "test_size=0.3\n",
        "X_train1, X_test1 = train_test_split(data, test_size=test_size, random_state=1)\n",
        "y_train1 = X_train1[target].values\n",
        "y_test1 = X_test1[target].values\n",
        "\n",
        "X_train1.drop([target], axis=1, inplace=True)\n",
        "X_test1.drop([target], axis=1, inplace=True)"
      ],
      "metadata": {
        "id": "D48bbrTFILi4"
      },
      "execution_count": 5,
      "outputs": []
    },
    {
      "cell_type": "code",
      "source": [
        "X_train1"
      ],
      "metadata": {
        "colab": {
          "base_uri": "https://localhost:8080/",
          "height": 143
        },
        "id": "i6JnSeWMEK5g",
        "outputId": "c7989de5-5f34-48da-a151-8214fd624e3f"
      },
      "execution_count": 6,
      "outputs": [
        {
          "output_type": "execute_result",
          "data": {
            "text/plain": [
              "  marca modelo   cv\n",
              "4  opel  astra  136\n",
              "0  opel  corsa   90\n",
              "3    vw   polo   85"
            ],
            "text/html": [
              "\n",
              "  <div id=\"df-f7500fe6-dadb-4131-abde-fccafa628e28\">\n",
              "    <div class=\"colab-df-container\">\n",
              "      <div>\n",
              "<style scoped>\n",
              "    .dataframe tbody tr th:only-of-type {\n",
              "        vertical-align: middle;\n",
              "    }\n",
              "\n",
              "    .dataframe tbody tr th {\n",
              "        vertical-align: top;\n",
              "    }\n",
              "\n",
              "    .dataframe thead th {\n",
              "        text-align: right;\n",
              "    }\n",
              "</style>\n",
              "<table border=\"1\" class=\"dataframe\">\n",
              "  <thead>\n",
              "    <tr style=\"text-align: right;\">\n",
              "      <th></th>\n",
              "      <th>marca</th>\n",
              "      <th>modelo</th>\n",
              "      <th>cv</th>\n",
              "    </tr>\n",
              "  </thead>\n",
              "  <tbody>\n",
              "    <tr>\n",
              "      <th>4</th>\n",
              "      <td>opel</td>\n",
              "      <td>astra</td>\n",
              "      <td>136</td>\n",
              "    </tr>\n",
              "    <tr>\n",
              "      <th>0</th>\n",
              "      <td>opel</td>\n",
              "      <td>corsa</td>\n",
              "      <td>90</td>\n",
              "    </tr>\n",
              "    <tr>\n",
              "      <th>3</th>\n",
              "      <td>vw</td>\n",
              "      <td>polo</td>\n",
              "      <td>85</td>\n",
              "    </tr>\n",
              "  </tbody>\n",
              "</table>\n",
              "</div>\n",
              "      <button class=\"colab-df-convert\" onclick=\"convertToInteractive('df-f7500fe6-dadb-4131-abde-fccafa628e28')\"\n",
              "              title=\"Convert this dataframe to an interactive table.\"\n",
              "              style=\"display:none;\">\n",
              "        \n",
              "  <svg xmlns=\"http://www.w3.org/2000/svg\" height=\"24px\"viewBox=\"0 0 24 24\"\n",
              "       width=\"24px\">\n",
              "    <path d=\"M0 0h24v24H0V0z\" fill=\"none\"/>\n",
              "    <path d=\"M18.56 5.44l.94 2.06.94-2.06 2.06-.94-2.06-.94-.94-2.06-.94 2.06-2.06.94zm-11 1L8.5 8.5l.94-2.06 2.06-.94-2.06-.94L8.5 2.5l-.94 2.06-2.06.94zm10 10l.94 2.06.94-2.06 2.06-.94-2.06-.94-.94-2.06-.94 2.06-2.06.94z\"/><path d=\"M17.41 7.96l-1.37-1.37c-.4-.4-.92-.59-1.43-.59-.52 0-1.04.2-1.43.59L10.3 9.45l-7.72 7.72c-.78.78-.78 2.05 0 2.83L4 21.41c.39.39.9.59 1.41.59.51 0 1.02-.2 1.41-.59l7.78-7.78 2.81-2.81c.8-.78.8-2.07 0-2.86zM5.41 20L4 18.59l7.72-7.72 1.47 1.35L5.41 20z\"/>\n",
              "  </svg>\n",
              "      </button>\n",
              "      \n",
              "  <style>\n",
              "    .colab-df-container {\n",
              "      display:flex;\n",
              "      flex-wrap:wrap;\n",
              "      gap: 12px;\n",
              "    }\n",
              "\n",
              "    .colab-df-convert {\n",
              "      background-color: #E8F0FE;\n",
              "      border: none;\n",
              "      border-radius: 50%;\n",
              "      cursor: pointer;\n",
              "      display: none;\n",
              "      fill: #1967D2;\n",
              "      height: 32px;\n",
              "      padding: 0 0 0 0;\n",
              "      width: 32px;\n",
              "    }\n",
              "\n",
              "    .colab-df-convert:hover {\n",
              "      background-color: #E2EBFA;\n",
              "      box-shadow: 0px 1px 2px rgba(60, 64, 67, 0.3), 0px 1px 3px 1px rgba(60, 64, 67, 0.15);\n",
              "      fill: #174EA6;\n",
              "    }\n",
              "\n",
              "    [theme=dark] .colab-df-convert {\n",
              "      background-color: #3B4455;\n",
              "      fill: #D2E3FC;\n",
              "    }\n",
              "\n",
              "    [theme=dark] .colab-df-convert:hover {\n",
              "      background-color: #434B5C;\n",
              "      box-shadow: 0px 1px 3px 1px rgba(0, 0, 0, 0.15);\n",
              "      filter: drop-shadow(0px 1px 2px rgba(0, 0, 0, 0.3));\n",
              "      fill: #FFFFFF;\n",
              "    }\n",
              "  </style>\n",
              "\n",
              "      <script>\n",
              "        const buttonEl =\n",
              "          document.querySelector('#df-f7500fe6-dadb-4131-abde-fccafa628e28 button.colab-df-convert');\n",
              "        buttonEl.style.display =\n",
              "          google.colab.kernel.accessAllowed ? 'block' : 'none';\n",
              "\n",
              "        async function convertToInteractive(key) {\n",
              "          const element = document.querySelector('#df-f7500fe6-dadb-4131-abde-fccafa628e28');\n",
              "          const dataTable =\n",
              "            await google.colab.kernel.invokeFunction('convertToInteractive',\n",
              "                                                     [key], {});\n",
              "          if (!dataTable) return;\n",
              "\n",
              "          const docLinkHtml = 'Like what you see? Visit the ' +\n",
              "            '<a target=\"_blank\" href=https://colab.research.google.com/notebooks/data_table.ipynb>data table notebook</a>'\n",
              "            + ' to learn more about interactive tables.';\n",
              "          element.innerHTML = '';\n",
              "          dataTable['output_type'] = 'display_data';\n",
              "          await google.colab.output.renderOutput(dataTable, element);\n",
              "          const docLink = document.createElement('div');\n",
              "          docLink.innerHTML = docLinkHtml;\n",
              "          element.appendChild(docLink);\n",
              "        }\n",
              "      </script>\n",
              "    </div>\n",
              "  </div>\n",
              "  "
            ]
          },
          "metadata": {},
          "execution_count": 6
        }
      ]
    },
    {
      "cell_type": "code",
      "source": [
        "X_test1"
      ],
      "metadata": {
        "colab": {
          "base_uri": "https://localhost:8080/",
          "height": 112
        },
        "id": "DktkA4kYHaH6",
        "outputId": "89279147-ee39-4cb7-937d-72ce52dfae44"
      },
      "execution_count": 7,
      "outputs": [
        {
          "output_type": "execute_result",
          "data": {
            "text/plain": [
              "  marca modelo   cv\n",
              "2    vw   polo   90\n",
              "1  opel  astra  110"
            ],
            "text/html": [
              "\n",
              "  <div id=\"df-364b1814-eb22-49e3-91fe-912860abbbac\">\n",
              "    <div class=\"colab-df-container\">\n",
              "      <div>\n",
              "<style scoped>\n",
              "    .dataframe tbody tr th:only-of-type {\n",
              "        vertical-align: middle;\n",
              "    }\n",
              "\n",
              "    .dataframe tbody tr th {\n",
              "        vertical-align: top;\n",
              "    }\n",
              "\n",
              "    .dataframe thead th {\n",
              "        text-align: right;\n",
              "    }\n",
              "</style>\n",
              "<table border=\"1\" class=\"dataframe\">\n",
              "  <thead>\n",
              "    <tr style=\"text-align: right;\">\n",
              "      <th></th>\n",
              "      <th>marca</th>\n",
              "      <th>modelo</th>\n",
              "      <th>cv</th>\n",
              "    </tr>\n",
              "  </thead>\n",
              "  <tbody>\n",
              "    <tr>\n",
              "      <th>2</th>\n",
              "      <td>vw</td>\n",
              "      <td>polo</td>\n",
              "      <td>90</td>\n",
              "    </tr>\n",
              "    <tr>\n",
              "      <th>1</th>\n",
              "      <td>opel</td>\n",
              "      <td>astra</td>\n",
              "      <td>110</td>\n",
              "    </tr>\n",
              "  </tbody>\n",
              "</table>\n",
              "</div>\n",
              "      <button class=\"colab-df-convert\" onclick=\"convertToInteractive('df-364b1814-eb22-49e3-91fe-912860abbbac')\"\n",
              "              title=\"Convert this dataframe to an interactive table.\"\n",
              "              style=\"display:none;\">\n",
              "        \n",
              "  <svg xmlns=\"http://www.w3.org/2000/svg\" height=\"24px\"viewBox=\"0 0 24 24\"\n",
              "       width=\"24px\">\n",
              "    <path d=\"M0 0h24v24H0V0z\" fill=\"none\"/>\n",
              "    <path d=\"M18.56 5.44l.94 2.06.94-2.06 2.06-.94-2.06-.94-.94-2.06-.94 2.06-2.06.94zm-11 1L8.5 8.5l.94-2.06 2.06-.94-2.06-.94L8.5 2.5l-.94 2.06-2.06.94zm10 10l.94 2.06.94-2.06 2.06-.94-2.06-.94-.94-2.06-.94 2.06-2.06.94z\"/><path d=\"M17.41 7.96l-1.37-1.37c-.4-.4-.92-.59-1.43-.59-.52 0-1.04.2-1.43.59L10.3 9.45l-7.72 7.72c-.78.78-.78 2.05 0 2.83L4 21.41c.39.39.9.59 1.41.59.51 0 1.02-.2 1.41-.59l7.78-7.78 2.81-2.81c.8-.78.8-2.07 0-2.86zM5.41 20L4 18.59l7.72-7.72 1.47 1.35L5.41 20z\"/>\n",
              "  </svg>\n",
              "      </button>\n",
              "      \n",
              "  <style>\n",
              "    .colab-df-container {\n",
              "      display:flex;\n",
              "      flex-wrap:wrap;\n",
              "      gap: 12px;\n",
              "    }\n",
              "\n",
              "    .colab-df-convert {\n",
              "      background-color: #E8F0FE;\n",
              "      border: none;\n",
              "      border-radius: 50%;\n",
              "      cursor: pointer;\n",
              "      display: none;\n",
              "      fill: #1967D2;\n",
              "      height: 32px;\n",
              "      padding: 0 0 0 0;\n",
              "      width: 32px;\n",
              "    }\n",
              "\n",
              "    .colab-df-convert:hover {\n",
              "      background-color: #E2EBFA;\n",
              "      box-shadow: 0px 1px 2px rgba(60, 64, 67, 0.3), 0px 1px 3px 1px rgba(60, 64, 67, 0.15);\n",
              "      fill: #174EA6;\n",
              "    }\n",
              "\n",
              "    [theme=dark] .colab-df-convert {\n",
              "      background-color: #3B4455;\n",
              "      fill: #D2E3FC;\n",
              "    }\n",
              "\n",
              "    [theme=dark] .colab-df-convert:hover {\n",
              "      background-color: #434B5C;\n",
              "      box-shadow: 0px 1px 3px 1px rgba(0, 0, 0, 0.15);\n",
              "      filter: drop-shadow(0px 1px 2px rgba(0, 0, 0, 0.3));\n",
              "      fill: #FFFFFF;\n",
              "    }\n",
              "  </style>\n",
              "\n",
              "      <script>\n",
              "        const buttonEl =\n",
              "          document.querySelector('#df-364b1814-eb22-49e3-91fe-912860abbbac button.colab-df-convert');\n",
              "        buttonEl.style.display =\n",
              "          google.colab.kernel.accessAllowed ? 'block' : 'none';\n",
              "\n",
              "        async function convertToInteractive(key) {\n",
              "          const element = document.querySelector('#df-364b1814-eb22-49e3-91fe-912860abbbac');\n",
              "          const dataTable =\n",
              "            await google.colab.kernel.invokeFunction('convertToInteractive',\n",
              "                                                     [key], {});\n",
              "          if (!dataTable) return;\n",
              "\n",
              "          const docLinkHtml = 'Like what you see? Visit the ' +\n",
              "            '<a target=\"_blank\" href=https://colab.research.google.com/notebooks/data_table.ipynb>data table notebook</a>'\n",
              "            + ' to learn more about interactive tables.';\n",
              "          element.innerHTML = '';\n",
              "          dataTable['output_type'] = 'display_data';\n",
              "          await google.colab.output.renderOutput(dataTable, element);\n",
              "          const docLink = document.createElement('div');\n",
              "          docLink.innerHTML = docLinkHtml;\n",
              "          element.appendChild(docLink);\n",
              "        }\n",
              "      </script>\n",
              "    </div>\n",
              "  </div>\n",
              "  "
            ]
          },
          "metadata": {},
          "execution_count": 7
        }
      ]
    },
    {
      "cell_type": "markdown",
      "source": [
        "Este paso es importante, puesto que hay atributos categóricos, y los atributos categóricos no se pueden utilizar para crear modelos, se opta por realizar la codificación 'one hot enconding'."
      ],
      "metadata": {
        "id": "CO2VvemO16Hz"
      }
    },
    {
      "cell_type": "code",
      "source": [
        "dv1 = DictVectorizer(sparse=False)\n",
        "\n",
        "train_dict = X_train1.to_dict(orient='records')\n",
        "\n",
        "dv1.fit(train_dict)\n",
        "\n",
        "X_train1 = dv1.transform(train_dict)\n",
        "X_test1 = dv1.transform(X_test1.to_dict(orient='records'))"
      ],
      "metadata": {
        "id": "rflBThAhI7KC"
      },
      "execution_count": 8,
      "outputs": []
    },
    {
      "cell_type": "code",
      "source": [
        "X_train1"
      ],
      "metadata": {
        "colab": {
          "base_uri": "https://localhost:8080/"
        },
        "id": "cey9v2R1bcef",
        "outputId": "91b2760c-6e4e-4648-a9d3-db403e9a54fa"
      },
      "execution_count": 9,
      "outputs": [
        {
          "output_type": "execute_result",
          "data": {
            "text/plain": [
              "array([[136.,   1.,   0.,   1.,   0.,   0.],\n",
              "       [ 90.,   1.,   0.,   0.,   1.,   0.],\n",
              "       [ 85.,   0.,   1.,   0.,   0.,   1.]])"
            ]
          },
          "metadata": {},
          "execution_count": 9
        }
      ]
    },
    {
      "cell_type": "code",
      "source": [
        "model1 = LinearRegression()\n",
        "model1.fit(X_train1, y_train1)"
      ],
      "metadata": {
        "id": "FKcHFLAlczX1",
        "colab": {
          "base_uri": "https://localhost:8080/"
        },
        "outputId": "e38a6fb4-4a99-43c2-d009-b348cbee3063"
      },
      "execution_count": 10,
      "outputs": [
        {
          "output_type": "execute_result",
          "data": {
            "text/plain": [
              "LinearRegression()"
            ]
          },
          "metadata": {},
          "execution_count": 10
        }
      ]
    },
    {
      "cell_type": "code",
      "source": [
        "print(model1.score(X_train1, y_train1))\n",
        "print(model1.score(X_test1, y_test1))\n",
        "y_pred1 = model1.predict(X_test1)\n",
        "display(y_pred1)\n",
        "display(y_test1)"
      ],
      "metadata": {
        "colab": {
          "base_uri": "https://localhost:8080/",
          "height": 86
        },
        "id": "mZ0nEqoUdDPq",
        "outputId": "8b2b23dc-22e4-405b-e845-448f853c5003"
      },
      "execution_count": 11,
      "outputs": [
        {
          "output_type": "stream",
          "name": "stdout",
          "text": [
            "1.0\n",
            "0.565444496864993\n"
          ]
        },
        {
          "output_type": "display_data",
          "data": {
            "text/plain": [
              "array([ 9808.41777085, 10876.22759158])"
            ]
          },
          "metadata": {}
        },
        {
          "output_type": "display_data",
          "data": {
            "text/plain": [
              "array([ 9500, 12000])"
            ]
          },
          "metadata": {}
        }
      ]
    },
    {
      "cell_type": "markdown",
      "source": [
        "Ahora se procede a guardar el modelo, también es necesario guardar el diccionario de codificación utilizado, ya que para poder realizar una predicción de un coche será necesario convertirlo con el diccionario."
      ],
      "metadata": {
        "id": "XRPVpxIW2h9_"
      }
    },
    {
      "cell_type": "code",
      "source": [
        "with open('modelo_regresion_lineal_one_hot_encoding.pck', 'wb') as f:\n",
        "  pickle.dump((dv1, model1), f)"
      ],
      "metadata": {
        "id": "zcmU2Tr_dzj2"
      },
      "execution_count": 12,
      "outputs": []
    },
    {
      "cell_type": "markdown",
      "source": [
        "Se realiza la lectura del modelo y del diccionacio de codificación."
      ],
      "metadata": {
        "id": "XCXHGj36VtHS"
      }
    },
    {
      "cell_type": "code",
      "source": [
        "with open('modelo_regresion_lineal_one_hot_encoding.pck', 'rb') as f:\n",
        "  dv1_read, model1_read = pickle.load(f)"
      ],
      "metadata": {
        "id": "6tkKj13ZeH2c"
      },
      "execution_count": 13,
      "outputs": []
    },
    {
      "cell_type": "markdown",
      "source": [
        "Se obtiene un dato del dataset y con el diccionario de codificación y el modelo se obtiene su valoración."
      ],
      "metadata": {
        "id": "pPcdFeYtU6Ac"
      }
    },
    {
      "cell_type": "code",
      "source": [
        "registro = data.iloc[2]\n",
        "print('registro original\\n', registro)\n",
        "\n",
        "x = dv1_read.transform(registro.to_dict())\n",
        "print('registro transformado\\n', x)\n",
        "\n",
        "precio_real = registro['precio']\n",
        "precio_predict = model1_read.predict(x)[0]\n",
        "\n",
        "print('precio de venta real', precio_real)\n",
        "print('precio de venta modelo', precio_predict)"
      ],
      "metadata": {
        "colab": {
          "base_uri": "https://localhost:8080/"
        },
        "id": "qsi1M27ZeRAV",
        "outputId": "63f94051-0b61-40f4-ce29-2c0dea32e62c"
      },
      "execution_count": 14,
      "outputs": [
        {
          "output_type": "stream",
          "name": "stdout",
          "text": [
            "registro original\n",
            " marca       vw\n",
            "modelo    polo\n",
            "cv          90\n",
            "precio    9500\n",
            "Name: 2, dtype: object\n",
            "registro transformado\n",
            " [[90.  0.  1.  0.  0.  1.]]\n",
            "precio de venta real 9500\n",
            "precio de venta modelo 9808.41777084957\n"
          ]
        }
      ]
    },
    {
      "cell_type": "markdown",
      "source": [
        "# LinearRegression y LabelEncoder"
      ],
      "metadata": {
        "id": "4Xi6JbGCoUpP"
      }
    },
    {
      "cell_type": "markdown",
      "source": [
        "Otra técnica de codificación consiste en convertir directamente los valores categóricos en valores numéricos."
      ],
      "metadata": {
        "id": "J6sxnAnc3Vry"
      }
    },
    {
      "cell_type": "code",
      "source": [
        "data2 = data.copy()\n",
        "\n",
        "marca_encoder = LabelEncoder()\n",
        "modelo_encoder = LabelEncoder()\n",
        "\n",
        "#en un solo paso\n",
        "data2['marca'] = marca_encoder.fit_transform(data2['marca'])\n",
        "\n",
        "#en dos pasos\n",
        "modelo_encoder.fit(data2['modelo'])\n",
        "data2['modelo'] = modelo_encoder.transform(data2['modelo'])\n",
        "\n",
        "display(data)\n",
        "display(data2)"
      ],
      "metadata": {
        "colab": {
          "base_uri": "https://localhost:8080/",
          "height": 395
        },
        "id": "TiCkdhde4cKj",
        "outputId": "4836e750-cfcc-4bcc-ed5e-47e3c4e752f1"
      },
      "execution_count": 15,
      "outputs": [
        {
          "output_type": "display_data",
          "data": {
            "text/plain": [
              "  marca modelo   cv  precio\n",
              "0  opel  corsa   90    9000\n",
              "1  opel  astra  110   12000\n",
              "2    vw   polo   90    9500\n",
              "3    vw   polo   85    9400\n",
              "4  opel  astra  136   13000"
            ],
            "text/html": [
              "\n",
              "  <div id=\"df-e2f3413d-9ae3-4a90-b01d-0f01f0124ab6\">\n",
              "    <div class=\"colab-df-container\">\n",
              "      <div>\n",
              "<style scoped>\n",
              "    .dataframe tbody tr th:only-of-type {\n",
              "        vertical-align: middle;\n",
              "    }\n",
              "\n",
              "    .dataframe tbody tr th {\n",
              "        vertical-align: top;\n",
              "    }\n",
              "\n",
              "    .dataframe thead th {\n",
              "        text-align: right;\n",
              "    }\n",
              "</style>\n",
              "<table border=\"1\" class=\"dataframe\">\n",
              "  <thead>\n",
              "    <tr style=\"text-align: right;\">\n",
              "      <th></th>\n",
              "      <th>marca</th>\n",
              "      <th>modelo</th>\n",
              "      <th>cv</th>\n",
              "      <th>precio</th>\n",
              "    </tr>\n",
              "  </thead>\n",
              "  <tbody>\n",
              "    <tr>\n",
              "      <th>0</th>\n",
              "      <td>opel</td>\n",
              "      <td>corsa</td>\n",
              "      <td>90</td>\n",
              "      <td>9000</td>\n",
              "    </tr>\n",
              "    <tr>\n",
              "      <th>1</th>\n",
              "      <td>opel</td>\n",
              "      <td>astra</td>\n",
              "      <td>110</td>\n",
              "      <td>12000</td>\n",
              "    </tr>\n",
              "    <tr>\n",
              "      <th>2</th>\n",
              "      <td>vw</td>\n",
              "      <td>polo</td>\n",
              "      <td>90</td>\n",
              "      <td>9500</td>\n",
              "    </tr>\n",
              "    <tr>\n",
              "      <th>3</th>\n",
              "      <td>vw</td>\n",
              "      <td>polo</td>\n",
              "      <td>85</td>\n",
              "      <td>9400</td>\n",
              "    </tr>\n",
              "    <tr>\n",
              "      <th>4</th>\n",
              "      <td>opel</td>\n",
              "      <td>astra</td>\n",
              "      <td>136</td>\n",
              "      <td>13000</td>\n",
              "    </tr>\n",
              "  </tbody>\n",
              "</table>\n",
              "</div>\n",
              "      <button class=\"colab-df-convert\" onclick=\"convertToInteractive('df-e2f3413d-9ae3-4a90-b01d-0f01f0124ab6')\"\n",
              "              title=\"Convert this dataframe to an interactive table.\"\n",
              "              style=\"display:none;\">\n",
              "        \n",
              "  <svg xmlns=\"http://www.w3.org/2000/svg\" height=\"24px\"viewBox=\"0 0 24 24\"\n",
              "       width=\"24px\">\n",
              "    <path d=\"M0 0h24v24H0V0z\" fill=\"none\"/>\n",
              "    <path d=\"M18.56 5.44l.94 2.06.94-2.06 2.06-.94-2.06-.94-.94-2.06-.94 2.06-2.06.94zm-11 1L8.5 8.5l.94-2.06 2.06-.94-2.06-.94L8.5 2.5l-.94 2.06-2.06.94zm10 10l.94 2.06.94-2.06 2.06-.94-2.06-.94-.94-2.06-.94 2.06-2.06.94z\"/><path d=\"M17.41 7.96l-1.37-1.37c-.4-.4-.92-.59-1.43-.59-.52 0-1.04.2-1.43.59L10.3 9.45l-7.72 7.72c-.78.78-.78 2.05 0 2.83L4 21.41c.39.39.9.59 1.41.59.51 0 1.02-.2 1.41-.59l7.78-7.78 2.81-2.81c.8-.78.8-2.07 0-2.86zM5.41 20L4 18.59l7.72-7.72 1.47 1.35L5.41 20z\"/>\n",
              "  </svg>\n",
              "      </button>\n",
              "      \n",
              "  <style>\n",
              "    .colab-df-container {\n",
              "      display:flex;\n",
              "      flex-wrap:wrap;\n",
              "      gap: 12px;\n",
              "    }\n",
              "\n",
              "    .colab-df-convert {\n",
              "      background-color: #E8F0FE;\n",
              "      border: none;\n",
              "      border-radius: 50%;\n",
              "      cursor: pointer;\n",
              "      display: none;\n",
              "      fill: #1967D2;\n",
              "      height: 32px;\n",
              "      padding: 0 0 0 0;\n",
              "      width: 32px;\n",
              "    }\n",
              "\n",
              "    .colab-df-convert:hover {\n",
              "      background-color: #E2EBFA;\n",
              "      box-shadow: 0px 1px 2px rgba(60, 64, 67, 0.3), 0px 1px 3px 1px rgba(60, 64, 67, 0.15);\n",
              "      fill: #174EA6;\n",
              "    }\n",
              "\n",
              "    [theme=dark] .colab-df-convert {\n",
              "      background-color: #3B4455;\n",
              "      fill: #D2E3FC;\n",
              "    }\n",
              "\n",
              "    [theme=dark] .colab-df-convert:hover {\n",
              "      background-color: #434B5C;\n",
              "      box-shadow: 0px 1px 3px 1px rgba(0, 0, 0, 0.15);\n",
              "      filter: drop-shadow(0px 1px 2px rgba(0, 0, 0, 0.3));\n",
              "      fill: #FFFFFF;\n",
              "    }\n",
              "  </style>\n",
              "\n",
              "      <script>\n",
              "        const buttonEl =\n",
              "          document.querySelector('#df-e2f3413d-9ae3-4a90-b01d-0f01f0124ab6 button.colab-df-convert');\n",
              "        buttonEl.style.display =\n",
              "          google.colab.kernel.accessAllowed ? 'block' : 'none';\n",
              "\n",
              "        async function convertToInteractive(key) {\n",
              "          const element = document.querySelector('#df-e2f3413d-9ae3-4a90-b01d-0f01f0124ab6');\n",
              "          const dataTable =\n",
              "            await google.colab.kernel.invokeFunction('convertToInteractive',\n",
              "                                                     [key], {});\n",
              "          if (!dataTable) return;\n",
              "\n",
              "          const docLinkHtml = 'Like what you see? Visit the ' +\n",
              "            '<a target=\"_blank\" href=https://colab.research.google.com/notebooks/data_table.ipynb>data table notebook</a>'\n",
              "            + ' to learn more about interactive tables.';\n",
              "          element.innerHTML = '';\n",
              "          dataTable['output_type'] = 'display_data';\n",
              "          await google.colab.output.renderOutput(dataTable, element);\n",
              "          const docLink = document.createElement('div');\n",
              "          docLink.innerHTML = docLinkHtml;\n",
              "          element.appendChild(docLink);\n",
              "        }\n",
              "      </script>\n",
              "    </div>\n",
              "  </div>\n",
              "  "
            ]
          },
          "metadata": {}
        },
        {
          "output_type": "display_data",
          "data": {
            "text/plain": [
              "   marca  modelo   cv  precio\n",
              "0      0       1   90    9000\n",
              "1      0       0  110   12000\n",
              "2      1       2   90    9500\n",
              "3      1       2   85    9400\n",
              "4      0       0  136   13000"
            ],
            "text/html": [
              "\n",
              "  <div id=\"df-752f3484-7be4-4f64-93e6-bfbb53692f87\">\n",
              "    <div class=\"colab-df-container\">\n",
              "      <div>\n",
              "<style scoped>\n",
              "    .dataframe tbody tr th:only-of-type {\n",
              "        vertical-align: middle;\n",
              "    }\n",
              "\n",
              "    .dataframe tbody tr th {\n",
              "        vertical-align: top;\n",
              "    }\n",
              "\n",
              "    .dataframe thead th {\n",
              "        text-align: right;\n",
              "    }\n",
              "</style>\n",
              "<table border=\"1\" class=\"dataframe\">\n",
              "  <thead>\n",
              "    <tr style=\"text-align: right;\">\n",
              "      <th></th>\n",
              "      <th>marca</th>\n",
              "      <th>modelo</th>\n",
              "      <th>cv</th>\n",
              "      <th>precio</th>\n",
              "    </tr>\n",
              "  </thead>\n",
              "  <tbody>\n",
              "    <tr>\n",
              "      <th>0</th>\n",
              "      <td>0</td>\n",
              "      <td>1</td>\n",
              "      <td>90</td>\n",
              "      <td>9000</td>\n",
              "    </tr>\n",
              "    <tr>\n",
              "      <th>1</th>\n",
              "      <td>0</td>\n",
              "      <td>0</td>\n",
              "      <td>110</td>\n",
              "      <td>12000</td>\n",
              "    </tr>\n",
              "    <tr>\n",
              "      <th>2</th>\n",
              "      <td>1</td>\n",
              "      <td>2</td>\n",
              "      <td>90</td>\n",
              "      <td>9500</td>\n",
              "    </tr>\n",
              "    <tr>\n",
              "      <th>3</th>\n",
              "      <td>1</td>\n",
              "      <td>2</td>\n",
              "      <td>85</td>\n",
              "      <td>9400</td>\n",
              "    </tr>\n",
              "    <tr>\n",
              "      <th>4</th>\n",
              "      <td>0</td>\n",
              "      <td>0</td>\n",
              "      <td>136</td>\n",
              "      <td>13000</td>\n",
              "    </tr>\n",
              "  </tbody>\n",
              "</table>\n",
              "</div>\n",
              "      <button class=\"colab-df-convert\" onclick=\"convertToInteractive('df-752f3484-7be4-4f64-93e6-bfbb53692f87')\"\n",
              "              title=\"Convert this dataframe to an interactive table.\"\n",
              "              style=\"display:none;\">\n",
              "        \n",
              "  <svg xmlns=\"http://www.w3.org/2000/svg\" height=\"24px\"viewBox=\"0 0 24 24\"\n",
              "       width=\"24px\">\n",
              "    <path d=\"M0 0h24v24H0V0z\" fill=\"none\"/>\n",
              "    <path d=\"M18.56 5.44l.94 2.06.94-2.06 2.06-.94-2.06-.94-.94-2.06-.94 2.06-2.06.94zm-11 1L8.5 8.5l.94-2.06 2.06-.94-2.06-.94L8.5 2.5l-.94 2.06-2.06.94zm10 10l.94 2.06.94-2.06 2.06-.94-2.06-.94-.94-2.06-.94 2.06-2.06.94z\"/><path d=\"M17.41 7.96l-1.37-1.37c-.4-.4-.92-.59-1.43-.59-.52 0-1.04.2-1.43.59L10.3 9.45l-7.72 7.72c-.78.78-.78 2.05 0 2.83L4 21.41c.39.39.9.59 1.41.59.51 0 1.02-.2 1.41-.59l7.78-7.78 2.81-2.81c.8-.78.8-2.07 0-2.86zM5.41 20L4 18.59l7.72-7.72 1.47 1.35L5.41 20z\"/>\n",
              "  </svg>\n",
              "      </button>\n",
              "      \n",
              "  <style>\n",
              "    .colab-df-container {\n",
              "      display:flex;\n",
              "      flex-wrap:wrap;\n",
              "      gap: 12px;\n",
              "    }\n",
              "\n",
              "    .colab-df-convert {\n",
              "      background-color: #E8F0FE;\n",
              "      border: none;\n",
              "      border-radius: 50%;\n",
              "      cursor: pointer;\n",
              "      display: none;\n",
              "      fill: #1967D2;\n",
              "      height: 32px;\n",
              "      padding: 0 0 0 0;\n",
              "      width: 32px;\n",
              "    }\n",
              "\n",
              "    .colab-df-convert:hover {\n",
              "      background-color: #E2EBFA;\n",
              "      box-shadow: 0px 1px 2px rgba(60, 64, 67, 0.3), 0px 1px 3px 1px rgba(60, 64, 67, 0.15);\n",
              "      fill: #174EA6;\n",
              "    }\n",
              "\n",
              "    [theme=dark] .colab-df-convert {\n",
              "      background-color: #3B4455;\n",
              "      fill: #D2E3FC;\n",
              "    }\n",
              "\n",
              "    [theme=dark] .colab-df-convert:hover {\n",
              "      background-color: #434B5C;\n",
              "      box-shadow: 0px 1px 3px 1px rgba(0, 0, 0, 0.15);\n",
              "      filter: drop-shadow(0px 1px 2px rgba(0, 0, 0, 0.3));\n",
              "      fill: #FFFFFF;\n",
              "    }\n",
              "  </style>\n",
              "\n",
              "      <script>\n",
              "        const buttonEl =\n",
              "          document.querySelector('#df-752f3484-7be4-4f64-93e6-bfbb53692f87 button.colab-df-convert');\n",
              "        buttonEl.style.display =\n",
              "          google.colab.kernel.accessAllowed ? 'block' : 'none';\n",
              "\n",
              "        async function convertToInteractive(key) {\n",
              "          const element = document.querySelector('#df-752f3484-7be4-4f64-93e6-bfbb53692f87');\n",
              "          const dataTable =\n",
              "            await google.colab.kernel.invokeFunction('convertToInteractive',\n",
              "                                                     [key], {});\n",
              "          if (!dataTable) return;\n",
              "\n",
              "          const docLinkHtml = 'Like what you see? Visit the ' +\n",
              "            '<a target=\"_blank\" href=https://colab.research.google.com/notebooks/data_table.ipynb>data table notebook</a>'\n",
              "            + ' to learn more about interactive tables.';\n",
              "          element.innerHTML = '';\n",
              "          dataTable['output_type'] = 'display_data';\n",
              "          await google.colab.output.renderOutput(dataTable, element);\n",
              "          const docLink = document.createElement('div');\n",
              "          docLink.innerHTML = docLinkHtml;\n",
              "          element.appendChild(docLink);\n",
              "        }\n",
              "      </script>\n",
              "    </div>\n",
              "  </div>\n",
              "  "
            ]
          },
          "metadata": {}
        }
      ]
    },
    {
      "cell_type": "code",
      "source": [
        "test_size=0.3\n",
        "X_train2, X_test2 = train_test_split(data2, test_size=test_size, random_state=1)\n",
        "y_train2 = X_train2[target].values\n",
        "y_test2 = X_test2[target].values\n",
        "X_train2.drop([target], axis=1, inplace=True)\n",
        "X_test2.drop([target], axis=1, inplace=True)\n",
        "\n",
        "model2 = LinearRegression()\n",
        "model2.fit(X_train2, y_train2)\n",
        "\n",
        "print(model2.score(X_train2, y_train2))\n",
        "print(model2.score(X_test2, y_test2))\n",
        "y_pred2 = model2.predict(X_test2)\n",
        "print(y_pred2)\n",
        "print(y_test2)"
      ],
      "metadata": {
        "colab": {
          "base_uri": "https://localhost:8080/"
        },
        "id": "H-C_D2obkHY7",
        "outputId": "5780d35b-c556-415a-ebd3-719efd70eff5"
      },
      "execution_count": 16,
      "outputs": [
        {
          "output_type": "stream",
          "name": "stdout",
          "text": [
            "1.0\n",
            "0.23905610807605937\n",
            "[ 9879.72617167 10505.42390732]\n",
            "[ 9500 12000]\n"
          ]
        }
      ]
    },
    {
      "cell_type": "markdown",
      "source": [
        "Se guarda el modelo y los diccionario, se recuperan y se utilizan."
      ],
      "metadata": {
        "id": "HYyr-5Bq5GZQ"
      }
    },
    {
      "cell_type": "code",
      "source": [
        "with open('modelo_regresion_lineal_label_encoder.pck', 'wb') as f:\n",
        "  pickle.dump((marca_encoder, modelo_encoder, model2), f)\n",
        "\n",
        "with open('modelo_regresion_lineal_label_encoder.pck', 'rb') as f:\n",
        "  marca_encoder_read, modelo_encoder_read, model2_read = pickle.load(f)\n",
        "\n",
        "registro = data.iloc[2]\n",
        "print('registro original\\n', registro)\n",
        "\n",
        "dataframe = pd.DataFrame.from_dict([registro.to_dict()])\n",
        "dataframe['modelo'] = modelo_encoder_read.transform(dataframe['modelo'])\n",
        "dataframe['marca'] = marca_encoder_read.transform(dataframe['marca'])\n",
        "dataframe.drop([target], axis=1, inplace=True)\n",
        "print('registro transformado\\n', dataframe)\n",
        "\n",
        "precio_real = registro['precio']\n",
        "precio_predict = model2_read.predict(dataframe)\n",
        "\n",
        "print('precio de venta real', precio_real)\n",
        "print('precio de venta modelo', precio_predict[0])"
      ],
      "metadata": {
        "colab": {
          "base_uri": "https://localhost:8080/"
        },
        "id": "GekoQirJ5xB8",
        "outputId": "bb756d57-a8b9-4569-c577-3eae3b36836e"
      },
      "execution_count": 17,
      "outputs": [
        {
          "output_type": "stream",
          "name": "stdout",
          "text": [
            "registro original\n",
            " marca       vw\n",
            "modelo    polo\n",
            "cv          90\n",
            "precio    9500\n",
            "Name: 2, dtype: object\n",
            "registro transformado\n",
            "    marca  modelo  cv\n",
            "0      1       2  90\n",
            "precio de venta real 9500\n",
            "precio de venta modelo 9879.726171669301\n"
          ]
        }
      ]
    },
    {
      "cell_type": "markdown",
      "source": [
        "# RandomForestRegressor y DictVectorizer"
      ],
      "metadata": {
        "id": "abtOQlsqBfLP"
      }
    },
    {
      "cell_type": "code",
      "source": [
        "param_dist = {\n",
        "    'n_estimators': [32, 64, 128],\n",
        "    'max_features': ['auto', 'sqrt'],\n",
        "    'max_depth': [8, 4, 2],\n",
        "    'bootstrap': [True, False]\n",
        "}\n",
        "\n",
        "regressor = RandomForestRegressor()\n",
        "\n",
        "grid = GridSearchCV(estimator = regressor, param_grid = param_dist, cv = 3)\n",
        "grid.fit(X_train1, y_train1)\n",
        "model3 = grid.best_estimator_\n",
        "model3.fit(X_train1, y_train1)"
      ],
      "metadata": {
        "id": "2n424AdMfBxH"
      },
      "execution_count": null,
      "outputs": []
    },
    {
      "cell_type": "code",
      "source": [
        "y_pred3 = model3.predict(X_test1)\n",
        "print(model3.score(X_train1, y_train1))\n",
        "print(model3.score(X_test1, y_test1))\n",
        "print(y_pred3)\n",
        "print(y_test1)"
      ],
      "metadata": {
        "colab": {
          "base_uri": "https://localhost:8080/"
        },
        "id": "eIvAsO2WgjyZ",
        "outputId": "dae6a853-35de-405b-f773-c5e22d710f70"
      },
      "execution_count": 19,
      "outputs": [
        {
          "output_type": "stream",
          "name": "stdout",
          "text": [
            "0.7839757898351648\n",
            "0.6102000000000001\n",
            "[ 9750. 10925.]\n",
            "[ 9500 12000]\n"
          ]
        }
      ]
    },
    {
      "cell_type": "code",
      "source": [
        "with open('random_forest_regressor_dict_vectorizer.pck', 'wb') as f:\n",
        "  pickle.dump((model3), f)\n",
        "\n",
        "with open('random_forest_regressor_dict_vectorizer.pck', 'rb') as f:\n",
        "  model3_read = pickle.load(f)\n",
        "\n",
        "registro = data.iloc[2]\n",
        "x = dv1_read.transform(registro.to_dict())\n",
        "\n",
        "print('registro original\\n', registro)\n",
        "print('registro transformado\\n', x)\n",
        "\n",
        "precio_real = registro['precio']\n",
        "precio_predict = model3_read.predict(x)[0]\n",
        "\n",
        "print('precio de venta real', precio_real)\n",
        "print('precio de venta modelo', precio_predict)"
      ],
      "metadata": {
        "colab": {
          "base_uri": "https://localhost:8080/"
        },
        "id": "5iLGqjI7J8dX",
        "outputId": "a3d2c0f9-6cc5-424a-d76f-4445467a8c11"
      },
      "execution_count": 20,
      "outputs": [
        {
          "output_type": "stream",
          "name": "stdout",
          "text": [
            "registro original\n",
            " marca       vw\n",
            "modelo    polo\n",
            "cv          90\n",
            "precio    9500\n",
            "Name: 2, dtype: object\n",
            "registro transformado\n",
            " [[90.  0.  1.  0.  0.  1.]]\n",
            "precio de venta real 9500\n",
            "precio de venta modelo 9750.0\n"
          ]
        }
      ]
    },
    {
      "cell_type": "markdown",
      "source": [
        "# RandomForestRegressor y LabelEncoder"
      ],
      "metadata": {
        "id": "X1ZyiWAvJi7e"
      }
    },
    {
      "cell_type": "code",
      "source": [
        "param_dist = {\n",
        "    'n_estimators': [32, 64, 128],\n",
        "    'max_features': ['auto', 'sqrt'],\n",
        "    'max_depth': [8, 4, 2],\n",
        "    'bootstrap': [True, False]\n",
        "}\n",
        "\n",
        "regressor = RandomForestRegressor()\n",
        "\n",
        "grid = GridSearchCV(estimator = regressor, param_grid = param_dist, cv = 3)\n",
        "grid.fit(X_train2, y_train2)\n",
        "model4 = grid.best_estimator_\n",
        "model4.fit(X_train2, y_train2)"
      ],
      "metadata": {
        "id": "iYwP60jVE6K7"
      },
      "execution_count": null,
      "outputs": []
    },
    {
      "cell_type": "code",
      "source": [
        "y_pred4 = model4.predict(X_test2)\n",
        "print(model4.score(X_train2, y_train2))\n",
        "print(model4.score(X_test2, y_test2))\n",
        "print(y_pred4)\n",
        "print(y_test2)"
      ],
      "metadata": {
        "colab": {
          "base_uri": "https://localhost:8080/"
        },
        "id": "GjjOLkgyFI6u",
        "outputId": "f78801c8-23b7-4441-883f-2656f6f06949"
      },
      "execution_count": 22,
      "outputs": [
        {
          "output_type": "stream",
          "name": "stdout",
          "text": [
            "0.8712708190247253\n",
            "0.67935\n",
            "[ 9225.  11037.5]\n",
            "[ 9500 12000]\n"
          ]
        }
      ]
    },
    {
      "cell_type": "code",
      "source": [
        "with open('random_forest_regressor_label_encoder.pck', 'wb') as f:\n",
        "  pickle.dump((model4), f)\n",
        "\n",
        "with open('random_forest_regressor_label_encoder.pck', 'rb') as f:\n",
        "  model4_read = pickle.load(f)\n",
        "\n",
        "registro = data.iloc[2]\n",
        "\n",
        "dataframe = pd.DataFrame.from_dict([registro.to_dict()])\n",
        "dataframe['modelo'] = modelo_encoder_read.transform(dataframe['modelo'])\n",
        "dataframe['marca'] = marca_encoder_read.transform(dataframe['marca'])\n",
        "dataframe.drop([target], axis=1, inplace=True)\n",
        "#del dataframe[target]\n",
        "\n",
        "print('registro original\\n', registro)\n",
        "print('registro transformado\\n', dataframe)\n",
        "\n",
        "precio_real = registro['precio']\n",
        "precio_predict = model4_read.predict(dataframe)[0]\n",
        "\n",
        "print('precio de venta real', precio_real)\n",
        "print('precio de venta modelo', precio_predict)"
      ],
      "metadata": {
        "colab": {
          "base_uri": "https://localhost:8080/"
        },
        "id": "bFHsaG_EYRDv",
        "outputId": "fba8d067-8c6f-48e3-9e74-573a812ae140"
      },
      "execution_count": 23,
      "outputs": [
        {
          "output_type": "stream",
          "name": "stdout",
          "text": [
            "registro original\n",
            " marca       vw\n",
            "modelo    polo\n",
            "cv          90\n",
            "precio    9500\n",
            "Name: 2, dtype: object\n",
            "registro transformado\n",
            "    marca  modelo  cv\n",
            "0      1       2  90\n",
            "precio de venta real 9500\n",
            "precio de venta modelo 9225.0\n"
          ]
        }
      ]
    },
    {
      "cell_type": "markdown",
      "source": [
        "# TensorFlow, Keras y DictVectorizer"
      ],
      "metadata": {
        "id": "ly-oZc9aC5ZG"
      }
    },
    {
      "cell_type": "code",
      "source": [
        "from keras.layers import Dense\n",
        "import keras\n",
        "from keras.models import Sequential\n",
        "import tensorflow as tf"
      ],
      "metadata": {
        "id": "fN2P5lJGhLm8"
      },
      "execution_count": 24,
      "outputs": []
    },
    {
      "cell_type": "code",
      "source": [
        "# obtener la dimensión del dataset\n",
        "X_train1.shape"
      ],
      "metadata": {
        "colab": {
          "base_uri": "https://localhost:8080/"
        },
        "id": "-iPQ7q4Uh26K",
        "outputId": "3a812431-4b8f-4227-d2d1-71687afbcf55"
      },
      "execution_count": 25,
      "outputs": [
        {
          "output_type": "execute_result",
          "data": {
            "text/plain": [
              "(3, 6)"
            ]
          },
          "metadata": {},
          "execution_count": 25
        }
      ]
    },
    {
      "cell_type": "code",
      "source": [
        "#obtener la dimensión del dataset de entrenamiento\n",
        "X_train2.shape"
      ],
      "metadata": {
        "colab": {
          "base_uri": "https://localhost:8080/"
        },
        "id": "_1MczRLTgyoi",
        "outputId": "89a5b229-8fd3-457a-fac9-fb18359b3eca"
      },
      "execution_count": 26,
      "outputs": [
        {
          "output_type": "execute_result",
          "data": {
            "text/plain": [
              "(3, 3)"
            ]
          },
          "metadata": {},
          "execution_count": 26
        }
      ]
    },
    {
      "cell_type": "code",
      "source": [
        "model5 = keras.Sequential()\n",
        "model5.add(Dense(6, activation = 'relu', input_dim = X_train1.shape[1]))\n",
        "model5.add(Dense(12, activation = 'relu'))\n",
        "model5.add(Dense(1))\n",
        "\n",
        "model5.summary()"
      ],
      "metadata": {
        "colab": {
          "base_uri": "https://localhost:8080/"
        },
        "id": "psSdlhNIhNfC",
        "outputId": "a3c0e4de-e97a-45b2-a778-2cf0a5936a5d"
      },
      "execution_count": 27,
      "outputs": [
        {
          "output_type": "stream",
          "name": "stdout",
          "text": [
            "Model: \"sequential\"\n",
            "_________________________________________________________________\n",
            " Layer (type)                Output Shape              Param #   \n",
            "=================================================================\n",
            " dense (Dense)               (None, 6)                 42        \n",
            "                                                                 \n",
            " dense_1 (Dense)             (None, 12)                84        \n",
            "                                                                 \n",
            " dense_2 (Dense)             (None, 1)                 13        \n",
            "                                                                 \n",
            "=================================================================\n",
            "Total params: 139\n",
            "Trainable params: 139\n",
            "Non-trainable params: 0\n",
            "_________________________________________________________________\n"
          ]
        }
      ]
    },
    {
      "cell_type": "code",
      "source": [
        "model5.compile(optimizer = 'adam',\n",
        "                  loss = 'mse',\n",
        "                  metrics = ['mae', 'mse', 'accuracy'])"
      ],
      "metadata": {
        "id": "_qNKPJJzhb2N"
      },
      "execution_count": 28,
      "outputs": []
    },
    {
      "cell_type": "code",
      "source": [
        "history5 = model5.fit(X_train1, y_train1, epochs = 4000)"
      ],
      "metadata": {
        "id": "9uUay8lRD5ny"
      },
      "execution_count": null,
      "outputs": []
    },
    {
      "cell_type": "code",
      "source": [
        "y_pred5 = model5.predict(X_test1)\n",
        "print(model5.evaluate(X_train1, y_train1))\n",
        "print(model5.evaluate(X_test1, y_test1))\n",
        "print(y_pred5)\n",
        "print(y_test1)"
      ],
      "metadata": {
        "colab": {
          "base_uri": "https://localhost:8080/"
        },
        "id": "Ulzha7VhFS3j",
        "outputId": "ccf9d674-aa59-4969-9edf-8d9cabd59d68"
      },
      "execution_count": 30,
      "outputs": [
        {
          "output_type": "stream",
          "name": "stdout",
          "text": [
            "1/1 [==============================] - 0s 150ms/step\n",
            "1/1 [==============================] - 0s 263ms/step - loss: 201553.4844 - mae: 360.5602 - mse: 201553.4844 - accuracy: 0.0000e+00\n",
            "[201553.484375, 360.5602111816406, 201553.484375, 0.0]\n",
            "1/1 [==============================] - 0s 32ms/step - loss: 656120.0625 - mae: 689.3306 - mse: 656120.0625 - accuracy: 0.0000e+00\n",
            "[656120.0625, 689.33056640625, 656120.0625, 0.0]\n",
            "[[ 9236.044]\n",
            " [10885.295]]\n",
            "[ 9500 12000]\n"
          ]
        }
      ]
    },
    {
      "cell_type": "code",
      "source": [
        "coche = {\n",
        "    'marca': 'opel',\n",
        "    'modelo': 'astra',\n",
        "    'cv': 150,\n",
        "}\n",
        "dataframe = pd.DataFrame.from_dict([coche])\n",
        "\n",
        "data_transform = dv1_read.transform(dataframe.to_dict(orient = 'records'))\n",
        "precio_predict = model5.predict(data_transform)\n",
        "\n",
        "print(precio_predict[0][0])"
      ],
      "metadata": {
        "colab": {
          "base_uri": "https://localhost:8080/"
        },
        "id": "h8uxPJ1DEJyY",
        "outputId": "5d7ea09a-3d6d-411e-f1e8-fdba79ff0e31"
      },
      "execution_count": 31,
      "outputs": [
        {
          "output_type": "stream",
          "name": "stdout",
          "text": [
            "1/1 [==============================] - 0s 191ms/step\n",
            "14790.33\n"
          ]
        }
      ]
    },
    {
      "cell_type": "code",
      "source": [
        "model5.save('modelo_keras_one_hot_encoding.hdf5')\n",
        "model5_read = tf.keras.models.load_model('modelo_keras_one_hot_encoding.hdf5')\n",
        "\n",
        "registro = data.iloc[2]\n",
        "x = dv1_read.transform(registro.to_dict())\n",
        "\n",
        "print('registro original\\n', registro)\n",
        "print('registro transformado\\n', x)\n",
        "\n",
        "precio_real = registro['precio']\n",
        "precio_predict = model5_read.predict(x)[0]\n",
        "\n",
        "print('precio de venta real', precio_real)\n",
        "print('precio de venta modelo', precio_predict[0])"
      ],
      "metadata": {
        "colab": {
          "base_uri": "https://localhost:8080/"
        },
        "id": "J9S8RbqHasWm",
        "outputId": "63b406c0-3352-447b-8f1a-ce83af79ad14"
      },
      "execution_count": 32,
      "outputs": [
        {
          "output_type": "stream",
          "name": "stdout",
          "text": [
            "registro original\n",
            " marca       vw\n",
            "modelo    polo\n",
            "cv          90\n",
            "precio    9500\n",
            "Name: 2, dtype: object\n",
            "registro transformado\n",
            " [[90.  0.  1.  0.  0.  1.]]\n",
            "1/1 [==============================] - 0s 79ms/step\n",
            "precio de venta real 9500\n",
            "precio de venta modelo 9236.044\n"
          ]
        }
      ]
    },
    {
      "cell_type": "code",
      "source": [
        "import matplotlib.pyplot as plt\n",
        "\n",
        "# summarize history for loss\n",
        "plt.plot(history5.history['loss'])\n",
        "plt.title('model loss')\n",
        "plt.ylabel('loss')\n",
        "plt.xlabel('epoch')\n",
        "plt.legend(['train'], loc='upper right')\n",
        "plt.show()"
      ],
      "metadata": {
        "colab": {
          "base_uri": "https://localhost:8080/",
          "height": 295
        },
        "id": "U-Nt70oHQSxX",
        "outputId": "c44f8e7e-030f-4eb4-97f6-bd36728a6d72"
      },
      "execution_count": 33,
      "outputs": [
        {
          "output_type": "display_data",
          "data": {
            "text/plain": [
              "<Figure size 432x288 with 1 Axes>"
            ],
            "image/png": "[encoded data removed]"
          },
          "metadata": {
            "needs_background": "light"
          }
        }
      ]
    },
    {
      "cell_type": "markdown",
      "source": [
        "# TensorFlow, Keras y LabelEncoder"
      ],
      "metadata": {
        "id": "uXcP14LYOzS9"
      }
    },
    {
      "cell_type": "code",
      "source": [
        "model6 = keras.Sequential()\n",
        "model6.add(Dense(6, activation= 'relu', input_dim = X_train2.shape[1]))\n",
        "model6.add(Dense(12, activation= 'relu'))\n",
        "model6.add(Dense(1))\n",
        "model6.summary()\n",
        "\n",
        "model6.compile(optimizer = 'adam',\n",
        "                  loss = 'mse',\n",
        "                  metrics = ['mae', 'mse'])\n",
        "\n",
        "history6 = model6.fit(X_train2, y_train2, epochs = 4000)"
      ],
      "metadata": {
        "id": "DuEmgykggeX4"
      },
      "execution_count": null,
      "outputs": []
    },
    {
      "cell_type": "code",
      "source": [
        "y_pred6 = model6.predict(X_test2)\n",
        "print(model6.evaluate(X_train2, y_train2))\n",
        "print(model6.evaluate(X_test2, y_test2))\n",
        "print(y_pred6)\n",
        "print(y_test2)"
      ],
      "metadata": {
        "colab": {
          "base_uri": "https://localhost:8080/"
        },
        "id": "7mSohnISiGaQ",
        "outputId": "ccdcf78f-78a2-4e85-e154-bf46b777f982"
      },
      "execution_count": 35,
      "outputs": [
        {
          "output_type": "stream",
          "name": "stdout",
          "text": [
            "1/1 [==============================] - 0s 90ms/step\n",
            "1/1 [==============================] - 0s 243ms/step - loss: 116899.6797 - mae: 279.2061 - mse: 116899.6797\n",
            "[116899.6796875, 279.2060546875, 116899.6796875]\n",
            "1/1 [==============================] - 0s 41ms/step - loss: 736224.8125 - mae: 661.6738 - mse: 736224.8125\n",
            "[736224.8125, 661.673828125, 736224.8125]\n",
            "[[ 9384.597]\n",
            " [10792.055]]\n",
            "[ 9500 12000]\n"
          ]
        }
      ]
    },
    {
      "cell_type": "code",
      "source": [
        "# predicción a partir de un diccionario\n",
        "coche = {\n",
        "    'marca': 'opel',\n",
        "    'modelo': 'astra',\n",
        "    'cv': 150,\n",
        "}\n",
        "\n",
        "dataframe = pd.DataFrame.from_dict([coche])\n",
        "dataframe['modelo'] = modelo_encoder_read.transform(dataframe['modelo'])\n",
        "dataframe['marca'] = marca_encoder_read.transform(dataframe['marca'])\n",
        "\n",
        "precio_predict = model6.predict(dataframe)\n",
        "\n",
        "print(precio_predict[0][0])"
      ],
      "metadata": {
        "colab": {
          "base_uri": "https://localhost:8080/"
        },
        "id": "1fG5i843iYRY",
        "outputId": "3ef37300-e09d-4ed0-e14f-fcb766ad2977"
      },
      "execution_count": 36,
      "outputs": [
        {
          "output_type": "stream",
          "name": "stdout",
          "text": [
            "1/1 [==============================] - 0s 26ms/step\n",
            "14674.315\n"
          ]
        }
      ]
    },
    {
      "cell_type": "code",
      "source": [
        "model6.save('modelo_keras_label_encoding.hdf5')\n",
        "model6_read = tf.keras.models.load_model('modelo_keras_label_encoding.hdf5')\n",
        "\n",
        "registro = data.iloc[2]\n",
        "\n",
        "dataframe = pd.DataFrame.from_dict([registro.to_dict()])\n",
        "dataframe['modelo'] = modelo_encoder_read.transform(dataframe['modelo'])\n",
        "dataframe['marca'] = marca_encoder_read.transform(dataframe['marca'])\n",
        "dataframe.drop([target], axis=1, inplace=True)\n",
        "\n",
        "print('registro original\\n', registro)\n",
        "print('registro transformado\\n', dataframe)\n",
        "\n",
        "precio_real = registro['precio']\n",
        "precio_predict = model6_read.predict(dataframe)[0]\n",
        "\n",
        "print('precio de venta real', precio_real)\n",
        "print('precio de venta modelo', precio_predict[0])"
      ],
      "metadata": {
        "colab": {
          "base_uri": "https://localhost:8080/"
        },
        "id": "Y224dKZVd3WG",
        "outputId": "82a112d4-0c19-4d52-feab-213b240daa53"
      },
      "execution_count": 37,
      "outputs": [
        {
          "output_type": "stream",
          "name": "stdout",
          "text": [
            "registro original\n",
            " marca       vw\n",
            "modelo    polo\n",
            "cv          90\n",
            "precio    9500\n",
            "Name: 2, dtype: object\n",
            "registro transformado\n",
            "    marca  modelo  cv\n",
            "0      1       2  90\n",
            "1/1 [==============================] - 0s 97ms/step\n",
            "precio de venta real 9500\n",
            "precio de venta modelo 9384.597\n"
          ]
        }
      ]
    },
    {
      "cell_type": "code",
      "source": [
        "import matplotlib.pyplot as plt\n",
        "\n",
        "# summarize history for loss\n",
        "plt.plot(history6.history['loss'])\n",
        "plt.title('model loss')\n",
        "plt.ylabel('loss')\n",
        "plt.xlabel('epoch')\n",
        "plt.legend(['train'], loc='upper right')\n",
        "plt.show()"
      ],
      "metadata": {
        "colab": {
          "base_uri": "https://localhost:8080/",
          "height": 295
        },
        "id": "hOZanDF9eczD",
        "outputId": "39f8edc3-27e3-4061-9794-3847e9d7f875"
      },
      "execution_count": 38,
      "outputs": [
        {
          "output_type": "display_data",
          "data": {
            "text/plain": [
              "<Figure size 432x288 with 1 Axes>"
            ],
            "image/png": "[encoded data removed]"
          },
          "metadata": {
            "needs_background": "light"
          }
        }
      ]
    }
  ]
}