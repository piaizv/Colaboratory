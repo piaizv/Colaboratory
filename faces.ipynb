{
  "nbformat": 4,
  "nbformat_minor": 0,
  "metadata": {
    "colab": {
      "provenance": [],
      "authorship_tag": "ABX9TyMV9J3TOVG/xw3gnh+G/6Ew",
      "include_colab_link": true
    },
    "kernelspec": {
      "name": "python3",
      "display_name": "Python 3"
    },
    "language_info": {
      "name": "python"
    }
  },
  "cells": [
    {
      "cell_type": "markdown",
      "metadata": {
        "id": "view-in-github",
        "colab_type": "text"
      },
      "source": [
        "<a href=\"https://colab.research.google.com/github/piaizv/Colaboratory/blob/main/faces.ipynb\" target=\"_parent\"><img src=\"https://colab.research.google.com/assets/colab-badge.svg\" alt=\"Open In Colab\"/></a>"
      ]
    },
    {
      "cell_type": "code",
      "execution_count": 1,
      "metadata": {
        "id": "Djtl9GtFyIUJ"
      },
      "outputs": [],
      "source": [
        "import cv2\n",
        "from PIL import Image"
      ]
    },
    {
      "cell_type": "code",
      "source": [
        "file = '1.jpg'\n",
        "img = cv2.imread(file)\n",
        "Image.fromarray(img)"
      ],
      "metadata": {
        "id": "hqLKSQKPyNFz"
      },
      "execution_count": null,
      "outputs": []
    },
    {
      "cell_type": "code",
      "source": [
        "faceCascade = cv2.CascadeClassifier(cv2.data.haarcascades + \"haarcascade_frontalface_default.xml\")\n",
        "gray = cv2.cvtColor(img, cv2.COLOR_BGR2GRAY)\n",
        "faces = faceCascade.detectMultiScale(\n",
        "        gray,\n",
        "        scaleFactor=1.2,\n",
        "        minNeighbors=8,\n",
        "        minSize=(30, 30)\n",
        ")\n",
        "print(\"Found {0} Faces!\".format(len(faces)))\n",
        "faces"
      ],
      "metadata": {
        "id": "2oRXwslSyYKw"
      },
      "execution_count": null,
      "outputs": []
    }
  ]
}