{
  "nbformat": 4,
  "nbformat_minor": 0,
  "metadata": {
    "colab": {
      "provenance": [],
      "authorship_tag": "ABX9TyMBeYJ+MJHJMwTmyfO0DMCu",
      "include_colab_link": true
    },
    "kernelspec": {
      "name": "python3",
      "display_name": "Python 3"
    },
    "language_info": {
      "name": "python"
    }
  },
  "cells": [
    {
      "cell_type": "markdown",
      "metadata": {
        "id": "view-in-github",
        "colab_type": "text"
      },
      "source": [
        "<a href=\"https://colab.research.google.com/github/piaizv/Colaboratory/blob/main/detect_faces_cv2.ipynb\" target=\"_parent\"><img src=\"https://colab.research.google.com/assets/colab-badge.svg\" alt=\"Open In Colab\"/></a>"
      ]
    },
    {
      "cell_type": "code",
      "execution_count": 4,
      "metadata": {
        "id": "lrdm_fG0v2_u"
      },
      "outputs": [],
      "source": [
        "from io import BytesIO\n",
        "import cv2\n",
        "from PIL import Image\n",
        "from matplotlib import pyplot as plt"
      ]
    },
    {
      "cell_type": "code",
      "source": [
        "from google.colab import drive\n",
        "drive.mount('/content/drive')"
      ],
      "metadata": {
        "id": "v9g43tC7wQry"
      },
      "execution_count": null,
      "outputs": []
    },
    {
      "cell_type": "code",
      "source": [
        "file_numbers = range(1, 5)\n",
        "images = []\n",
        "for file_number in file_numbers:\n",
        "  file = '/content/drive/My Drive/Colab Data/caras/' + str(file_number) + '.jpg'\n",
        "  img = cv2.imread(file)\n",
        "  images.append(img)\n",
        "  plt.imshow(cv2.cvtColor(img, cv2.COLOR_BGR2RGB))\n",
        "  plt.axis(\"off\")\n",
        "  plt.show()"
      ],
      "metadata": {
        "id": "K-8HDEg3wTLm"
      },
      "execution_count": null,
      "outputs": []
    },
    {
      "cell_type": "code",
      "source": [
        "faceCascade = cv2.CascadeClassifier(cv2.data.haarcascades + \"haarcascade_frontalface_default.xml\")\n",
        "faces_coords = []\n",
        "face_count = 0\n",
        "for img in images:\n",
        "  gray = cv2.cvtColor(img, cv2.COLOR_BGR2GRAY)\n",
        "  faces = faceCascade.detectMultiScale(\n",
        "        gray,\n",
        "        scaleFactor=1.2,\n",
        "        minNeighbors=8,\n",
        "        minSize=(30, 30)\n",
        "  )\n",
        "  faces_coords.append(faces)\n",
        "  print(\"Found {0} Faces!\".format(len(faces)))\n",
        "  face_count += len(faces)"
      ],
      "metadata": {
        "id": "OaxTassJw5xN"
      },
      "execution_count": null,
      "outputs": []
    },
    {
      "cell_type": "code",
      "source": [
        "index = 0\n",
        "all_faces = []\n",
        "string = ''\n",
        "for img in images:\n",
        "  faces = faces_coords[index]\n",
        "  for (x, y, w, h) in faces:\n",
        "    print(index, 'coords', x, y, w, h)\n",
        "  index += 1"
      ],
      "metadata": {
        "id": "vIDFDSztxSLt"
      },
      "execution_count": null,
      "outputs": []
    }
  ]
}