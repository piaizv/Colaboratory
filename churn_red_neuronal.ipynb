{
  "nbformat": 4,
  "nbformat_minor": 0,
  "metadata": {
    "colab": {
      "provenance": [],
      "authorship_tag": "ABX9TyPIvpdaF0yQvmj3mJ1cx3zT",
      "include_colab_link": true
    },
    "kernelspec": {
      "name": "python3",
      "display_name": "Python 3"
    },
    "language_info": {
      "name": "python"
    }
  },
  "cells": [
    {
      "cell_type": "markdown",
      "metadata": {
        "id": "view-in-github",
        "colab_type": "text"
      },
      "source": [
        "<a href=\"https://colab.research.google.com/github/piaizv/Colaboratory/blob/main/churn_red_neuronal.ipynb\" target=\"_parent\"><img src=\"https://colab.research.google.com/assets/colab-badge.svg\" alt=\"Open In Colab\"/></a>"
      ]
    },
    {
      "cell_type": "code",
      "execution_count": null,
      "metadata": {
        "id": "ZnEjRiyZFZtu"
      },
      "outputs": [],
      "source": [
        "#dataset\n",
        "#https://www.kaggle.com/datasets/blastchar/telco-customer-churn"
      ]
    },
    {
      "cell_type": "code",
      "source": [
        "import pandas as pd"
      ],
      "metadata": {
        "id": "7r3QdSReGmSo"
      },
      "execution_count": 1,
      "outputs": []
    },
    {
      "cell_type": "markdown",
      "source": [
        "# Preparación de los datos"
      ],
      "metadata": {
        "id": "wxFNwLY6H-ui"
      }
    },
    {
      "cell_type": "code",
      "source": [
        "df = pd.read_csv('churn.csv')\n",
        "print(len(df))\n",
        "df.head().T"
      ],
      "metadata": {
        "id": "O2r_BsAtHEes"
      },
      "execution_count": null,
      "outputs": []
    },
    {
      "cell_type": "code",
      "source": [
        "df.dtypes"
      ],
      "metadata": {
        "id": "5oLDcwYNHK9V"
      },
      "execution_count": null,
      "outputs": []
    },
    {
      "cell_type": "code",
      "source": [
        "total_charges = pd.to_numeric(df.TotalCharges, errors='coerce')\n",
        "df.TotalCharges = pd.to_numeric(df.TotalCharges, errors='coerce')\n",
        "df.TotalCharges = df.TotalCharges.fillna(0)\n",
        "df[total_charges.isnull()][['customerID', 'TotalCharges']]"
      ],
      "metadata": {
        "id": "d4M0i_U3HP8-"
      },
      "execution_count": null,
      "outputs": []
    },
    {
      "cell_type": "code",
      "source": [
        "replacer = lambda str: str.lower().str.replace(' ', '_')\n",
        "df.columns = replacer(df.columns.str)\n",
        "for col in list(df.dtypes[df.dtypes == 'object'].index):\n",
        "    df[col] = replacer(df[col].str)\n",
        "df.head().T"
      ],
      "metadata": {
        "id": "T36LZRm_HXjD"
      },
      "execution_count": null,
      "outputs": []
    },
    {
      "cell_type": "code",
      "source": [
        "df.churn = (df.churn == 'yes').astype(int)\n",
        "df.churn.head()"
      ],
      "metadata": {
        "id": "Cbnk6KNUHdvq"
      },
      "execution_count": null,
      "outputs": []
    },
    {
      "cell_type": "code",
      "source": [
        "categorical = ['gender', 'seniorcitizen', 'partner', 'dependents',\n",
        "                'phoneservice', 'multiplelines', 'internetservice',\n",
        "                'onlinesecurity', 'onlinebackup', 'deviceprotection',\n",
        "                'techsupport', 'streamingtv', 'streamingmovies',\n",
        "                'contract', 'paperlessbilling', 'paymentmethod']\n",
        "numerical = ['tenure', 'monthlycharges', 'totalcharges']\n",
        "df[categorical].nunique()"
      ],
      "metadata": {
        "id": "9qGhMj1THjMH"
      },
      "execution_count": null,
      "outputs": []
    },
    {
      "cell_type": "code",
      "source": [
        "from sklearn.model_selection import train_test_split\n",
        "df_train_full, df_test = train_test_split(df, test_size=0.2, random_state=1)\n",
        "\n",
        "df_train, df_val = train_test_split(df_train_full, test_size=0.33, random_state=1)\n",
        "y_train = df_train.churn.values\n",
        "y_val = df_val.churn.values\n",
        "\n",
        "del df_train['churn']\n",
        "del df_val['churn']\n",
        "\n",
        "df_train.head().T"
      ],
      "metadata": {
        "id": "Y882njTzHvea"
      },
      "execution_count": null,
      "outputs": []
    },
    {
      "cell_type": "markdown",
      "source": [
        "# Análisis de la importancia de las propiedades"
      ],
      "metadata": {
        "id": "c3DtlqTbIMiJ"
      }
    },
    {
      "cell_type": "code",
      "source": [
        "global_mean = df_train_full.churn.mean()\n",
        "round(global_mean, 3)"
      ],
      "metadata": {
        "id": "yvYEzIRQH2Zd"
      },
      "execution_count": null,
      "outputs": []
    },
    {
      "cell_type": "code",
      "source": [
        "female_mean = df_train_full[df_train_full.gender == 'female'].churn.mean()\n",
        "print(round(female_mean, 3))\n",
        "male_mean = df_train_full[df_train_full.gender == 'male'].churn.mean()\n",
        "print(round(male_mean, 3))"
      ],
      "metadata": {
        "id": "G0mD0zVMIbrn"
      },
      "execution_count": null,
      "outputs": []
    },
    {
      "cell_type": "code",
      "source": [
        "partner_yes = df_train_full[df_train_full.partner == 'yes'].churn.mean()\n",
        "print(round(partner_yes, 3))\n",
        "partner_no = df_train_full[df_train_full.partner == 'no'].churn.mean()\n",
        "print(round(partner_no, 3))"
      ],
      "metadata": {
        "id": "N6ai59FfIkVP"
      },
      "execution_count": null,
      "outputs": []
    },
    {
      "cell_type": "code",
      "source": [
        "from sklearn.metrics import mutual_info_score\n",
        "\n",
        "calculate_mi = lambda col: mutual_info_score(col, df_train_full.churn)\n",
        "\n",
        "df_mi = df_train_full[categorical].apply(calculate_mi)\n",
        "df_mi = df_mi.sort_values(ascending=False).to_frame(name='MI')\n",
        "df_mi"
      ],
      "metadata": {
        "id": "S61Nxo5qIrb1"
      },
      "execution_count": null,
      "outputs": []
    },
    {
      "cell_type": "code",
      "source": [
        "print(df_train_full[numerical].corrwith(df_train_full.churn))\n",
        "\n",
        "print(round(df_train_full[df_train_full.tenure <= 2].churn.mean(), 3))\n",
        "print(round(df_train_full[(df_train_full.tenure > 3) & \n",
        "                          (df_train_full.tenure <= 12)].churn.mean(), 3))\n",
        "print(round(df_train_full[df_train_full.tenure > 12].churn.mean(), 3))\n",
        "\n",
        "print(round(df_train_full[df_train_full.monthlycharges < 20].churn.mean(), 3))\n",
        "print(round(df_train_full[(df_train_full.monthlycharges > 21) & \n",
        "                          (df_train_full.monthlycharges <= 50)].churn.mean(), 3))\n",
        "print(round(df_train_full[df_train_full.monthlycharges > 50].churn.mean(), 3))"
      ],
      "metadata": {
        "id": "iYPtRcUfI0RF"
      },
      "execution_count": null,
      "outputs": []
    },
    {
      "cell_type": "markdown",
      "source": [
        "# Ingeniería de propiedades"
      ],
      "metadata": {
        "id": "iCkw6VbMI7gv"
      }
    },
    {
      "cell_type": "code",
      "source": [
        "train_dict = df_train[categorical + numerical].to_dict(orient='records')\n",
        "dict(sorted(train_dict[0].items()))"
      ],
      "metadata": {
        "id": "QS2TGeg3I5nD"
      },
      "execution_count": null,
      "outputs": []
    },
    {
      "cell_type": "code",
      "source": [
        "from sklearn.feature_extraction import DictVectorizer\n",
        "\n",
        "dv = DictVectorizer(sparse=False)\n",
        "dv.fit(train_dict)"
      ],
      "metadata": {
        "id": "64QpiCwnJDTg"
      },
      "execution_count": null,
      "outputs": []
    },
    {
      "cell_type": "code",
      "source": [
        "X_train = dv.transform(train_dict)\n",
        "X_train[0]"
      ],
      "metadata": {
        "id": "ze2XCDAqJHBj"
      },
      "execution_count": null,
      "outputs": []
    },
    {
      "cell_type": "code",
      "source": [
        "dv.get_feature_names_out()"
      ],
      "metadata": {
        "id": "tb7jfB1eJL-B"
      },
      "execution_count": null,
      "outputs": []
    },
    {
      "cell_type": "markdown",
      "source": [
        "# Entrenamiento del modelo"
      ],
      "metadata": {
        "id": "rpJKwC3UJQoR"
      }
    },
    {
      "cell_type": "code",
      "source": [
        "from sklearn.linear_model import LogisticRegression\n",
        "\n",
        "model = LogisticRegression(solver='liblinear')\n",
        "model.fit(X_train, y_train)"
      ],
      "metadata": {
        "id": "nQmQKxPlJW-h"
      },
      "execution_count": null,
      "outputs": []
    },
    {
      "cell_type": "code",
      "source": [
        "val_dict = df_val[categorical + numerical].to_dict(orient='records')\n",
        "X_val = dv.transform(val_dict)\n",
        "y_pred = model.predict_proba(X_val)\n",
        "y_pred"
      ],
      "metadata": {
        "id": "MuvsQd9-Jb1W"
      },
      "execution_count": null,
      "outputs": []
    },
    {
      "cell_type": "code",
      "source": [
        "y_pred = model.predict_proba(X_val)[:, 1]\n",
        "y_pred"
      ],
      "metadata": {
        "id": "ajZb1f2TJhku"
      },
      "execution_count": null,
      "outputs": []
    },
    {
      "cell_type": "code",
      "source": [
        "churn = y_pred >= 0.5\n",
        "churn"
      ],
      "metadata": {
        "id": "7zcELLkSJmVv"
      },
      "execution_count": null,
      "outputs": []
    },
    {
      "cell_type": "code",
      "source": [
        "# precisión del modelo con los datos de entrenamiento\n",
        "round((y_val == churn).mean(), 3) "
      ],
      "metadata": {
        "colab": {
          "base_uri": "https://localhost:8080/"
        },
        "id": "oEy4q2fpJqWv",
        "outputId": "24e732e7-8bff-44b9-8cbe-97c5ced9e1ca"
      },
      "execution_count": 26,
      "outputs": [
        {
          "output_type": "execute_result",
          "data": {
            "text/plain": [
              "0.805"
            ]
          },
          "metadata": {},
          "execution_count": 26
        }
      ]
    },
    {
      "cell_type": "markdown",
      "source": [
        "# Modelo"
      ],
      "metadata": {
        "id": "h9Yp8P9PJvus"
      }
    },
    {
      "cell_type": "code",
      "source": [
        "X_val = dv.transform(val_dict)\n",
        "y_pred = model.predict_proba(X_val)\n",
        "y_pred"
      ],
      "metadata": {
        "colab": {
          "base_uri": "https://localhost:8080/"
        },
        "id": "9gAPH3NqJ0bY",
        "outputId": "97ef313d-abea-4223-ee73-e1e8fcc1f773"
      },
      "execution_count": 27,
      "outputs": [
        {
          "output_type": "execute_result",
          "data": {
            "text/plain": [
              "array([[0.99142714, 0.00857286],\n",
              "       [0.79028712, 0.20971288],\n",
              "       [0.78364454, 0.21635546],\n",
              "       ...,\n",
              "       [0.35664296, 0.64335704],\n",
              "       [0.81055916, 0.18944084],\n",
              "       [0.87261929, 0.12738071]])"
            ]
          },
          "metadata": {},
          "execution_count": 27
        }
      ]
    }
  ]
}