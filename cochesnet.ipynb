{
  "nbformat": 4,
  "nbformat_minor": 0,
  "metadata": {
    "colab": {
      "provenance": [],
      "include_colab_link": true
    },
    "kernelspec": {
      "name": "python3",
      "display_name": "Python 3"
    },
    "language_info": {
      "name": "python"
    }
  },
  "cells": [
    {
      "cell_type": "markdown",
      "metadata": {
        "id": "view-in-github",
        "colab_type": "text"
      },
      "source": [
        "<a href=\"https://colab.research.google.com/github/piaizv/Colaboratory/blob/main/cochesnet.ipynb\" target=\"_parent\"><img src=\"https://colab.research.google.com/assets/colab-badge.svg\" alt=\"Open In Colab\"/></a>"
      ]
    },
    {
      "cell_type": "markdown",
      "metadata": {
        "id": "mkuQpQj_nEeY"
      },
      "source": [
        "Vamos a intentar a prededecir el precio de un coche. Usaremos los datos que hemos recopilado en *coches.net*.\n"
      ]
    },
    {
      "cell_type": "markdown",
      "source": [
        "Las importaciones de las librerías que se van a utilizar."
      ],
      "metadata": {
        "id": "g6M9c1Ew33k1"
      }
    },
    {
      "cell_type": "code",
      "execution_count": null,
      "metadata": {
        "id": "9xGNYpUW3Mi2"
      },
      "outputs": [],
      "source": [
        "import pandas as pd\n",
        "import numpy as np\n",
        "\n",
        "# upload files\n",
        "from google.colab import files\n",
        "import io\n",
        "\n",
        "# formatos csv, json\n",
        "import csv\n",
        "import json\n",
        "\n",
        "# etc."
      ]
    },
    {
      "cell_type": "code",
      "source": [
        "#funciones para la obtención de columnas con valores nulos\n",
        "def columns_without_values(data):\n",
        "    columns = data.isnull().sum()\n",
        "    print(columns[columns > 0])\n",
        "\n",
        "#funciones para obtener la representación de los diagramas de cajas\n",
        "def draw_hist_boxplot(df, feature_name):\n",
        "    sns.boxplot(x=feature_name, data=df)\n",
        "    sns.stripplot(x=feature_name, data=df, color=\"#474646\")\n",
        "\n",
        "#funciones que se utilizan para 'corregir' valores atípicos\n",
        "def replace_outliers_with_median(df, feature_name):\n",
        "    Q1 = df[feature_name].quantile(0.25)\n",
        "    median = df[feature_name].quantile(0.5)\n",
        "    Q3 = df[feature_name].quantile(0.75)\n",
        "    IQR = Q3 - Q1\n",
        "    lower_whisker = Q1 - 1.5 * IQR\n",
        "    upper_whisker = Q3 + 1.5 * IQR\n",
        "    df[feature_name] = np.where((df[feature_name] < lower_whisker) | \n",
        "                                (df[feature_name] > upper_whisker), \n",
        "                                 median, \n",
        "                                 df[feature_name])"
      ],
      "metadata": {
        "id": "3d8FndFu4o2u"
      },
      "execution_count": null,
      "outputs": []
    },
    {
      "cell_type": "markdown",
      "source": [
        "# 1. Importación de datos"
      ],
      "metadata": {
        "id": "W82C8Tbx7_mW"
      }
    },
    {
      "cell_type": "code",
      "source": [
        "# data = ..."
      ],
      "metadata": {
        "id": "tw_NYCgB5RIw"
      },
      "execution_count": null,
      "outputs": []
    },
    {
      "cell_type": "markdown",
      "source": [
        "Obtener información acerca de los datos que se acaban de leer."
      ],
      "metadata": {
        "id": "-fVfq8g27fqf"
      }
    },
    {
      "cell_type": "code",
      "source": [
        "type(data)"
      ],
      "metadata": {
        "id": "Nmwc2z8C6qcx"
      },
      "execution_count": null,
      "outputs": []
    },
    {
      "cell_type": "code",
      "source": [
        "data.head()"
      ],
      "metadata": {
        "id": "sl695V5n5K_R"
      },
      "execution_count": null,
      "outputs": []
    },
    {
      "cell_type": "code",
      "source": [
        "data.dtypes"
      ],
      "metadata": {
        "id": "YSLfrn345iUt"
      },
      "execution_count": null,
      "outputs": []
    },
    {
      "cell_type": "code",
      "source": [
        "data.describe()"
      ],
      "metadata": {
        "id": "tCKww_645ev7"
      },
      "execution_count": null,
      "outputs": []
    },
    {
      "cell_type": "markdown",
      "source": [
        "También existe la posibilidad de que el dataset tenga filas duplicadas, que hay que eliminar:\n",
        "\n",
        "**data.drop_duplicates(subset=None, inplace=True)**\n",
        "\n",
        "**data.drop_duplicates(subset=['id'], keep='first')**"
      ],
      "metadata": {
        "id": "danZifHa0VFM"
      }
    },
    {
      "cell_type": "markdown",
      "source": [
        "# 2. Preparación de los datos"
      ],
      "metadata": {
        "id": "Oy_JzQK5FURO"
      }
    },
    {
      "cell_type": "markdown",
      "source": [
        "Una vez leido el dataset transformar los datos a un formato 'válido'.\n",
        "\n",
        "Analizar los valores nulos y sustituirlos por otros valores."
      ],
      "metadata": {
        "id": "M3pHu-FO-4Ih"
      }
    },
    {
      "cell_type": "code",
      "source": [
        "#información detallada por cada una de las columnas indicando si tiene o no valores nulos\n",
        "pd.isnull(data).any()"
      ],
      "metadata": {
        "id": "CbbjCRIQ6Yxe"
      },
      "execution_count": null,
      "outputs": []
    },
    {
      "cell_type": "code",
      "source": [
        "#información de aquellas columnas que tienen valores nulos, indicando el número de veces que el valor es nulo\n",
        "columns_without_values(data)"
      ],
      "metadata": {
        "id": "79dtZvQb_IKP"
      },
      "execution_count": null,
      "outputs": []
    },
    {
      "cell_type": "markdown",
      "source": [
        "En el caso de las columnas numéricas, lo que se puede hacer es sustituir los valores nulos por la media de los valores de la columna.\n",
        "\n",
        "En el caso de las columnas de texto, lo que se puede hacer es sustituir los valores nulos por el último valor leído de la propia columna.\n",
        "\n",
        "En el caso de las columnas categóricas (las que toman sólo un pequeño conjunto de valores), lo que se puede hacer es sustituir los valores nulos por el valor que más veces aparece en la propia columna.\n",
        "\n",
        "También se puede utilizar la interpolación para sustituir los valores nulos: https://pandas.pydata.org/pandas-docs/stable/reference/api/pandas.DataFrame.interpolate.html#pandas.DataFrame.interpolate\n",
        "\n",
        "En general, se trata de sustituir los valores nulos por otros valores.\n",
        "\n",
        "Si es la propia columna objetivo la que presenta valores nulos, lo que se debe hacer es eliminar esas filas.\n",
        "\n",
        "También es necesario comprobar que todos los datos tienen valores correctos: desde 2012 a 2022, desde 10.000 km a 180.000 km, etc."
      ],
      "metadata": {
        "id": "qNRELbNLBfpD"
      }
    },
    {
      "cell_type": "code",
      "source": [
        "#sustitución del valor nulo por el último valor de la misma columna"
      ],
      "metadata": {
        "id": "yJ1ePSZv_Vji"
      },
      "execution_count": null,
      "outputs": []
    },
    {
      "cell_type": "code",
      "source": [
        "#sustitución del valor nulo por el valor que con más frecuencia se utiliza"
      ],
      "metadata": {
        "id": "tII8GkG6Eh0v"
      },
      "execution_count": null,
      "outputs": []
    },
    {
      "cell_type": "code",
      "source": [
        "#sustitución del valor nulo por la media de la columna"
      ],
      "metadata": {
        "id": "4F3149oZCt42"
      },
      "execution_count": null,
      "outputs": []
    },
    {
      "cell_type": "code",
      "source": [
        "#eliminación de las filas en las que el valor objetivo es nulo\n",
        "\n",
        "#después de eliminar filas hay que resetear el dataset\n",
        "data.reset_index(drop=True, inplace=True)"
      ],
      "metadata": {
        "id": "LY69DFZnGo4K"
      },
      "execution_count": null,
      "outputs": []
    },
    {
      "cell_type": "markdown",
      "source": [
        "# 3. Normalización de los datos"
      ],
      "metadata": {
        "id": "Oy8OGdeIIsY9"
      }
    },
    {
      "cell_type": "markdown",
      "source": [
        "Definimos listas en las que se guardan los nombre de los campos numéricos y los de los campos categóricos. No se incluye el nombre del campo objetivo."
      ],
      "metadata": {
        "id": "7d3G7RbcJsTp"
      }
    },
    {
      "cell_type": "code",
      "source": [
        "campos_numericos = []\n",
        "\n",
        "campos_categoricos = []\n",
        "\n",
        "all_feature_names = campos_numericos + campos_categoricos\n",
        "\n",
        "target = 'price' # o como se llame"
      ],
      "metadata": {
        "id": "FCFWJ_ExJ4bs"
      },
      "execution_count": null,
      "outputs": []
    },
    {
      "cell_type": "markdown",
      "source": [
        "Se visualizan los histogramas de las columnas numéricas."
      ],
      "metadata": {
        "id": "IOiZBXnvUWXC"
      }
    },
    {
      "cell_type": "code",
      "source": [
        "#histogramas de las columnas numéricas\n",
        "data[campos_numericos].hist(ax=plt.figure(figsize=(15,15)).gca())\n",
        "\n",
        "#al ejecutar estos histogramas por primera vez, lo que se puede observar es que en realidad muchas\n",
        "#de estas variables numéricas en realidad son categóricas"
      ],
      "metadata": {
        "id": "Epf7PFu4Mr2J"
      },
      "execution_count": null,
      "outputs": []
    },
    {
      "cell_type": "markdown",
      "source": [
        "Se visualizan los diagramas de cajas. En el caso en el que muchos valores se salgan del diagrama, se puede intentar hacer una normalización de los datos que acerque todos los outliers al conjunto de datos.\n",
        "\n",
        "También existe la posibilidad de eliminar directamente aquellos datos que se consideren erróneos.\n",
        "\n",
        "La normalización se supone que hace que mejore el comportamiento del algoritmo de creación del modelo, se puede comprobar si realmente se obtienen mejores resultados, comparando ambos modelos."
      ],
      "metadata": {
        "id": "RuRRBnAiUeaO"
      }
    },
    {
      "cell_type": "code",
      "source": [
        "#visualizar los diagramas para todas las propiedades numéricas\n",
        "draw_hist_boxplot(data, 'hp')"
      ],
      "metadata": {
        "id": "rSXhVKQJP5iy"
      },
      "execution_count": null,
      "outputs": []
    },
    {
      "cell_type": "code",
      "source": [
        "replace_outliers_with_median(data, 'hp')\n",
        "draw_hist_boxplot(data, 'hp')"
      ],
      "metadata": {
        "id": "F_zuRKqaTXtA"
      },
      "execution_count": null,
      "outputs": []
    },
    {
      "cell_type": "code",
      "source": [
        "# etc."
      ],
      "metadata": {
        "id": "PO5yzf-eRLv9"
      },
      "execution_count": null,
      "outputs": []
    },
    {
      "cell_type": "code",
      "source": [
        "#se puede calcular la desviación de la distribución, si el valor es negativo la desviación es a la izquierda y si es positivo es a la derecha\n",
        "print(data['km'].skew())"
      ],
      "metadata": {
        "id": "1aXdzrhnVkDU",
        "colab": {
          "base_uri": "https://localhost:8080/"
        },
        "outputId": "3bb3c355-6833-4826-c3fa-c7a3e7ef2b00"
      },
      "execution_count": null,
      "outputs": [
        {
          "output_type": "stream",
          "name": "stdout",
          "text": [
            "1.1715297919245955\n"
          ]
        }
      ]
    },
    {
      "cell_type": "markdown",
      "source": [
        "Una vez corregidos los valores nulos y corregidos los outliers, se puede analizar la relación de los atributos con el objetivo."
      ],
      "metadata": {
        "id": "ga1jLZT0E6Sr"
      }
    },
    {
      "cell_type": "code",
      "source": [
        "sns.lmplot(data=data, x='price', y='hp', order=1)\n",
        "#sns.lmplot(data=data, x=\"hp\", y=\"price\", order=1)"
      ],
      "metadata": {
        "id": "nxDlHrHPFHP1"
      },
      "execution_count": null,
      "outputs": []
    },
    {
      "cell_type": "markdown",
      "source": [
        "Una vez 'normalizados' todos los valores y habiendo acercado los outliers al conjunto de datos, se puede realizar una segunda normalización en la que se intenta transformas los valores de cada columna de tal manera que la media sea 0 y la desviación típica 1. Esto se puede hacer mediante el escalado de los valores numéricos."
      ],
      "metadata": {
        "id": "VeM3HNJHXuDm"
      }
    },
    {
      "cell_type": "code",
      "source": [
        "scaler = StandardScaler()\n",
        "data[campos_numericos] = scaler.fit_transform(data[campos_numericos])\n",
        "data[campos_numericos].hist(ax=plt.figure(figsize=(15,15)).gca())"
      ],
      "metadata": {
        "id": "YTnYP1y5YU4d"
      },
      "execution_count": null,
      "outputs": []
    },
    {
      "cell_type": "markdown",
      "source": [
        "También existen otros métodos de normalización."
      ],
      "metadata": {
        "id": "u6Y42CW_PTan"
      }
    },
    {
      "cell_type": "code",
      "source": [
        "scaler = MinMaxScaler()\n",
        "data[campos_numericos] = scaler.fit_transform(data[campos_numericos])"
      ],
      "metadata": {
        "id": "ip9fG3HOPakw"
      },
      "execution_count": null,
      "outputs": []
    },
    {
      "cell_type": "markdown",
      "source": [
        "Para que el algoritmo de generación del modelo funcione es necesario eliminar los valores nulos.\n",
        "\n",
        "La búsqueda y la corrección de los outliers es convienete realizarla para evitar que datos posiblemente erróneos alteren el modelo que se genera.\n",
        "\n",
        "En cuanto al escalado es posible que escalando los datos se mejoren los resultados que se obtienen, aunque también es conveniente comparar los resultados que se obtienen, por si el escalado produce resultados peores."
      ],
      "metadata": {
        "id": "VfSOOMgkl0Lu"
      }
    },
    {
      "cell_type": "markdown",
      "source": [
        "# 4. Importancia de los datos y división del conjunto de datos"
      ],
      "metadata": {
        "id": "yxj8JEkWZlOz"
      }
    },
    {
      "cell_type": "markdown",
      "source": [
        "Para estudiar la relación que existe entre todas las variables se puede generar un 'mapa de calor'. Si se observa que alguna variable realmente no tiene ninguna influencia sobre la variable objetivo, se puede eliminar esa propiedad."
      ],
      "metadata": {
        "id": "BDEwu23XQUbf"
      }
    },
    {
      "cell_type": "code",
      "source": [
        "plt.figure(figsize=(15,10))\n",
        "sns.heatmap(data.corr(), cmap='BrBG', annot=True)"
      ],
      "metadata": {
        "id": "bsKN4NyJQpjj"
      },
      "execution_count": null,
      "outputs": []
    },
    {
      "cell_type": "markdown",
      "source": [
        "Para eliminar una variable del dataset se puede utilizar el método drop(). El atributo id seguro que no aporta nada y se puede eliminar. Pero también ha resultado util mantenerlo hasta este momento para poder eliminar filas duplicadas."
      ],
      "metadata": {
        "id": "3w_15LilRzRe"
      }
    },
    {
      "cell_type": "code",
      "source": [
        "data.drop(['id'], axis=1, inplace=True)"
      ],
      "metadata": {
        "id": "DzPGwTRgR56U"
      },
      "execution_count": null,
      "outputs": []
    },
    {
      "cell_type": "markdown",
      "source": [
        "También se puede dibujar los diagramas de cajas para ver la relación de la variable objetivo con las variables categóricas."
      ],
      "metadata": {
        "id": "r_pfRWN1S1Zk"
      }
    },
    {
      "cell_type": "code",
      "source": [
        "plt.figure(figsize=(20,5))\n",
        "sns.boxplot(x='transmissionType', y='price', data=data) # etc."
      ],
      "metadata": {
        "id": "kn8diE6KSYPG"
      },
      "execution_count": null,
      "outputs": []
    },
    {
      "cell_type": "code",
      "source": [
        "sns.pairplot(data[campos_numericos + [target]])"
      ],
      "metadata": {
        "id": "6V3HT5VEHDkV"
      },
      "execution_count": null,
      "outputs": []
    },
    {
      "cell_type": "markdown",
      "source": [
        "Una vez vistas las relaciones de las variables categóricas con la variable objetivo, se puede decidir eliminar aquellas variables categóricas que no tengan prácticamente ninguna influencia sobre la variable objetivo."
      ],
      "metadata": {
        "id": "_oXCZ0cxTx7s"
      }
    },
    {
      "cell_type": "code",
      "source": [
        "campos_numericos = []\n",
        "\n",
        "campos_categoricos = []\n",
        "\n",
        "all_feature_names = campos_numericos + campos_categoricos\n",
        "\n",
        "target = 'price'\n",
        "\n",
        "#used_features = all_feature_names.append(target)\n",
        "used_features = all_feature_names + [target]"
      ],
      "metadata": {
        "id": "nKNNQcqlUKY2"
      },
      "execution_count": null,
      "outputs": []
    },
    {
      "cell_type": "markdown",
      "source": [
        "Para crear las conjuntos de datos de entrenamiento y de prueba se ha de dividir el dataset. Primero se obtiene los conjuntos de entranamiento y de prueba. El conjunto de entrenamiento a su vez se divide en el conjunto que se utiliza para realizar el entrenamiento y el que se utiliza para realizar la validación."
      ],
      "metadata": {
        "id": "XoIkbRsrXw1S"
      }
    },
    {
      "cell_type": "code",
      "source": [
        "train_data, test_data, _ = np.split(data.sample(frac=1, random_state=123), [int(0.70*len(data)), int(len(data))])\n",
        "\n",
        "X_train_full, X_test = train_test_split(data[used_features], test_size=0.3, random_state=12)\n",
        "X_train, X_val = train_test_split(X_train_full, test_size=0.33, random_state=1)\n",
        "\n",
        "print(len(train_data), len(test_data))\n",
        "print(len(X_train_full), len(X_test), len(X_train), len(X_val))"
      ],
      "metadata": {
        "id": "V-wmT2ei6Ciq"
      },
      "execution_count": null,
      "outputs": []
    },
    {
      "cell_type": "markdown",
      "source": [
        "Finalmente se elimina la variable objetivo de los conjuntos de entrenamiento y se guarda en variables auxiliares."
      ],
      "metadata": {
        "id": "IubCvKxLYqp2"
      }
    },
    {
      "cell_type": "code",
      "source": [
        "y_train = X_train[target].values\n",
        "y_val = X_val[target].values\n",
        "y_test = X_test[target].values\n",
        "\n",
        "X_train.drop([target], axis=1, inplace=True)\n",
        "X_val.drop([target], axis=1, inplace=True)\n",
        "X_test.drop([target], axis=1, inplace=True)"
      ],
      "metadata": {
        "id": "QqqLp_A7Y-kO"
      },
      "execution_count": null,
      "outputs": []
    },
    {
      "cell_type": "markdown",
      "source": [
        "# 5. Ingeniería de propiedades categóricas"
      ],
      "metadata": {
        "id": "dt86e1pZaoZj"
      }
    },
    {
      "cell_type": "markdown",
      "source": [
        "Todas las propiedades categóricas se han de convertir a forma numérica de tal forma que puedan ser utilizadas por el algoritmo de aprendizaje.\n",
        "\n",
        "https://datascience.stackexchange.com/questions/9443/when-to-use-one-hot-encoding-vs-labelencoder-vs-dictvectorizor"
      ],
      "metadata": {
        "id": "kVjBtewjbDGV"
      }
    },
    {
      "cell_type": "code",
      "source": [
        "#las filas se convierten a formato de diccionario\n",
        "train_dict = X_train[all_feature_names].to_dict(orient='records')"
      ],
      "metadata": {
        "id": "6FgXDCeDbD_f"
      },
      "execution_count": null,
      "outputs": []
    },
    {
      "cell_type": "markdown",
      "source": [
        "Las propiedades categóricas se transforman."
      ],
      "metadata": {
        "id": "awykqV-cgmtK"
      }
    },
    {
      "cell_type": "code",
      "source": [
        "dv = DictVectorizer(sparse=False)\n",
        "dv.fit(train_dict)\n",
        "X_train = dv.transform(train_dict)"
      ],
      "metadata": {
        "id": "7x-BbeUHfqoP"
      },
      "execution_count": null,
      "outputs": []
    },
    {
      "cell_type": "markdown",
      "source": [
        "Para visualizar los valores de las propiedades categóricas."
      ],
      "metadata": {
        "id": "t0HZezM5ryQY"
      }
    },
    {
      "cell_type": "code",
      "source": [
        "X_train[0]"
      ],
      "metadata": {
        "id": "Vbdfzk03rqii"
      },
      "execution_count": null,
      "outputs": []
    },
    {
      "cell_type": "markdown",
      "source": [
        "Para visualizar la transformación de las propiedades categóricas."
      ],
      "metadata": {
        "id": "8gaU5udYgbEi"
      }
    },
    {
      "cell_type": "code",
      "source": [
        "dv.get_feature_names_out()"
      ],
      "metadata": {
        "id": "81U1AnSxgNxx"
      },
      "execution_count": null,
      "outputs": []
    },
    {
      "cell_type": "markdown",
      "source": [
        "# 6. Entrenamiento del modelo"
      ],
      "metadata": {
        "id": "Vc8lQu4og-Ms"
      }
    },
    {
      "cell_type": "code",
      "source": [
        "model = LinearRegression()\n",
        "model.fit(X_train, y_train)"
      ],
      "metadata": {
        "id": "7FRsEcOkhMnx",
        "colab": {
          "base_uri": "https://localhost:8080/"
        },
        "outputId": "fb65f7a0-6d34-40c1-ebb0-2b721cfc35af"
      },
      "execution_count": null,
      "outputs": [
        {
          "output_type": "execute_result",
          "data": {
            "text/plain": [
              "LinearRegression()"
            ]
          },
          "metadata": {},
          "execution_count": 94
        }
      ]
    },
    {
      "cell_type": "markdown",
      "source": [
        "Obtenemos su puntuación."
      ],
      "metadata": {
        "id": "rjkVLDgqsi5D"
      }
    },
    {
      "cell_type": "code",
      "source": [
        "model.score(X_train, y_train)"
      ],
      "metadata": {
        "id": "-d6uSXNKizi2"
      },
      "execution_count": null,
      "outputs": []
    },
    {
      "cell_type": "markdown",
      "source": [
        "Obtenemos la puntuación del modelo con los datos de validación."
      ],
      "metadata": {
        "id": "G_foBQ80sm-x"
      }
    },
    {
      "cell_type": "code",
      "source": [
        "X_val = dv.transform(X_val[all_feature_names].to_dict(orient='records'))\n",
        "val = model.score(X_val, y_val)"
      ],
      "metadata": {
        "id": "VGzy11fojDdM"
      },
      "execution_count": null,
      "outputs": []
    },
    {
      "cell_type": "markdown",
      "source": [
        "Obtenemos la puntuación del modelo con los datos de prueba."
      ],
      "metadata": {
        "id": "Mvb7I4Z7ss88"
      }
    },
    {
      "cell_type": "code",
      "source": [
        "X_test = dv.transform(X_test[all_feature_names].to_dict(orient='records'))\n",
        "y_pred = model.predict(X_test)\n",
        "model.score(X_test, y_test)"
      ],
      "metadata": {
        "id": "3apsB5GGmylI"
      },
      "execution_count": null,
      "outputs": []
    },
    {
      "cell_type": "markdown",
      "source": [
        "Calculamos los indicadores: error cuadrático medio, r cuadrado y la varianza."
      ],
      "metadata": {
        "id": "SUGTA_qyn355"
      }
    },
    {
      "cell_type": "code",
      "source": [
        "print (\"MSE:\", metrics.mean_squared_error(y_pred , y_test))\n",
        "print (\"R^2:\", metrics.r2_score(y_pred , y_test))\n",
        "print (\"var:\", y_pred.var(), y_test.var())"
      ],
      "metadata": {
        "id": "Egd7uqvSnzef"
      },
      "execution_count": null,
      "outputs": []
    },
    {
      "cell_type": "markdown",
      "source": [
        "Representamos gráficamente los resultados predichos y los resultados reales."
      ],
      "metadata": {
        "id": "XUejTG3rs2fE"
      }
    },
    {
      "cell_type": "code",
      "source": [
        "ind = np.arange(15)\n",
        "width = 0.35\n",
        "\n",
        "plt.figure(figsize=(9,4))\n",
        "plt.bar(ind, y_test[:15], width, label='Precio de venta real')\n",
        "plt.bar(ind+width, y_pred[:15], width, label='Precio de venta modelo')\n",
        "\n",
        "plt.xticks(ind+width/2, np.arange(1, 16))\n",
        "plt.legend(loc='best')\n",
        "\n",
        "plt.xlabel('Coches')\n",
        "plt.ylabel('Precio de venta')\n",
        "plt.title('Precio de venta - Real vs. Modelo')\n",
        "\n",
        "plt.show()"
      ],
      "metadata": {
        "id": "eX7gHe9znbMZ",
        "colab": {
          "base_uri": "https://localhost:8080/",
          "height": 295
        },
        "outputId": "850f49f0-a250-4112-8605-ff687b6c22ae"
      },
      "execution_count": null,
      "outputs": [
        {
          "output_type": "display_data",
          "data": {
            "image/png": "[encoded data removed]",
            "text/plain": [
              "<Figure size 648x288 with 1 Axes>"
            ]
          },
          "metadata": {
            "needs_background": "light"
          }
        }
      ]
    },
    {
      "cell_type": "markdown",
      "source": [
        "## 6.1. Otros modelos"
      ],
      "metadata": {
        "id": "N4-DwGZ8sWaY"
      }
    },
    {
      "cell_type": "markdown",
      "source": [
        "A continuación se pueden costruir otros modelos utilizando algoritmos diferentes."
      ],
      "metadata": {
        "id": "f-KilcN0nQet"
      }
    },
    {
      "cell_type": "code",
      "source": [
        "from sklearn.linear_model import LinearRegression\n",
        "\n",
        "model = LinearRegression()\n",
        "model.fit(X_train, y_train)\n",
        "y_pred = model.predict(X_test)\n",
        "\n",
        "print(model.score(X_train, y_train))\n",
        "print(model.score(X_val, y_val))\n",
        "print(model.score(X_test, y_test))\n",
        "\n",
        "print (\"Coeff and intercept:\", model.coef_ , model.intercept_)"
      ],
      "metadata": {
        "id": "tcHvsnRJu_su"
      },
      "execution_count": null,
      "outputs": []
    },
    {
      "cell_type": "code",
      "source": [
        "from sklearn.linear_model import Lasso\n",
        "\n",
        "lasso_model = Lasso(alpha = .3)\n",
        "lasso_model.fit(X_train , y_train)\n",
        "y_pred = lasso_model.predict(X_test)\n",
        "\n",
        "print(lasso_model.score(X_train, y_train))\n",
        "print(lasso_model.score(X_val, y_val))\n",
        "print(lasso_model.score(X_test, y_test))"
      ],
      "metadata": {
        "id": "1aVbKSVQna1w"
      },
      "execution_count": null,
      "outputs": []
    },
    {
      "cell_type": "code",
      "source": [
        "from sklearn import svm\n",
        "\n",
        "svm_model = svm.SVR()\n",
        "svm_model.fit(X_train , y_train)\n",
        "y_pred = svm_model.predict(X_test)\n",
        "\n",
        "print(svm_model.score(X_train, y_train))\n",
        "print(svm_model.score(X_val, y_val))\n",
        "print(svm_model.score(X_test, y_test))"
      ],
      "metadata": {
        "id": "rJCquhTbqoBG"
      },
      "execution_count": null,
      "outputs": []
    },
    {
      "cell_type": "code",
      "source": [
        "from sklearn import linear_model\n",
        "\n",
        "bayes_model = linear_model.BayesianRidge()\n",
        "bayes_model.fit(X_train , y_train)\n",
        "y_pred = bayes_model.predict(X_test)\n",
        "\n",
        "print(bayes_model.score(X_train, y_train))\n",
        "print(bayes_model.score(X_val, y_val))\n",
        "print(bayes_model.score(X_test, y_test))"
      ],
      "metadata": {
        "id": "brAuNqSrq_Xr"
      },
      "execution_count": null,
      "outputs": []
    },
    {
      "cell_type": "code",
      "source": [
        "from sklearn import linear_model\n",
        "\n",
        "lasso_lars_model = linear_model.LassoLars(alpha=.1, normalize=False)\n",
        "lasso_lars_model.fit(X_train , y_train)\n",
        "y_pred = lasso_lars_model.predict(X_test)\n",
        "\n",
        "print(lasso_lars_model.score(X_train, y_train))\n",
        "print(lasso_lars_model.score(X_val, y_val))\n",
        "print(lasso_lars_model.score(X_test, y_test))"
      ],
      "metadata": {
        "id": "FjRZ5eB5rdEf"
      },
      "execution_count": null,
      "outputs": []
    },
    {
      "cell_type": "code",
      "source": [
        "from sklearn.linear_model import ARDRegression\n",
        "\n",
        "ard_model = ARDRegression(compute_score=True)\n",
        "ard_model.fit(X_train , y_train)\n",
        "y_pred = ard_model.predict(X_test)\n",
        "\n",
        "print(ard_model.score(X_train, y_train))\n",
        "print(ard_model.score(X_val, y_val))\n",
        "print(ard_model.score(X_test, y_test))"
      ],
      "metadata": {
        "id": "urF00v_trobl"
      },
      "execution_count": null,
      "outputs": []
    },
    {
      "cell_type": "code",
      "source": [
        "from sklearn.linear_model import TweedieRegressor\n",
        "tweed_model = TweedieRegressor(power=1, alpha=0.5, link='log')\n",
        "tweed_model.fit(X_train , y_train)\n",
        "y_pred = tweed_model.predict(X_test)\n",
        "\n",
        "print(tweed_model.score(X_train, y_train))\n",
        "print(tweed_model.score(X_val, y_val))\n",
        "print(tweed_model.score(X_test, y_test))"
      ],
      "metadata": {
        "id": "RcOjfgnfr7ee"
      },
      "execution_count": null,
      "outputs": []
    },
    {
      "cell_type": "markdown",
      "source": [
        "## 6.2 Red neuronal"
      ],
      "metadata": {
        "id": "gUwSHbfzQ_qi"
      }
    },
    {
      "cell_type": "code",
      "source": [],
      "metadata": {
        "id": "VmAFFVLdRFkI"
      },
      "execution_count": null,
      "outputs": []
    }
  ]
}