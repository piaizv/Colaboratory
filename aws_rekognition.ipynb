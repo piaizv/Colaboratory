{
  "nbformat": 4,
  "nbformat_minor": 0,
  "metadata": {
    "colab": {
      "provenance": [],
      "authorship_tag": "ABX9TyPGbcVwq7p4IVAKDJpFUZW8",
      "include_colab_link": true
    },
    "kernelspec": {
      "name": "python3",
      "display_name": "Python 3"
    },
    "language_info": {
      "name": "python"
    }
  },
  "cells": [
    {
      "cell_type": "markdown",
      "metadata": {
        "id": "view-in-github",
        "colab_type": "text"
      },
      "source": [
        "<a href=\"https://colab.research.google.com/github/piaizv/Colaboratory/blob/main/aws_rekognition.ipynb\" target=\"_parent\"><img src=\"https://colab.research.google.com/assets/colab-badge.svg\" alt=\"Open In Colab\"/></a>"
      ]
    },
    {
      "cell_type": "code",
      "execution_count": null,
      "metadata": {
        "id": "ULXXd05i6TMg"
      },
      "outputs": [],
      "source": [
        "!pip install boto3"
      ]
    },
    {
      "cell_type": "code",
      "source": [
        "!pip install python-dotenv"
      ],
      "metadata": {
        "id": "MBka3Xb770M0"
      },
      "execution_count": null,
      "outputs": []
    },
    {
      "cell_type": "code",
      "source": [
        "import boto3, cv2, numpy as np, os\n",
        "from dotenv import load_dotenv\n",
        "from PIL import Image"
      ],
      "metadata": {
        "id": "KBKIDF137j7x"
      },
      "execution_count": 17,
      "outputs": []
    },
    {
      "cell_type": "code",
      "source": [
        "%%writefile .env\n",
        "[default]\n",
        "aws_access_key_id=ASI...2X4\n",
        "aws_secret_access_key=4O7...Wy1\n",
        "aws_session_token=Fwo...A==\n",
        "aws_bucket_source=aws...pia\n",
        "aws_region=us-east-1"
      ],
      "metadata": {
        "colab": {
          "base_uri": "https://localhost:8080/"
        },
        "id": "kv0ZLbxz9zKL",
        "outputId": "64140d50-ad03-481e-89a8-5a9a4c44a48f"
      },
      "execution_count": 8,
      "outputs": [
        {
          "output_type": "stream",
          "name": "stdout",
          "text": [
            "Writing .env\n"
          ]
        }
      ]
    },
    {
      "cell_type": "code",
      "source": [
        "load_dotenv()\n",
        "\n",
        "aws_access_key_id = os.environ.get('aws_access_key_id')\n",
        "aws_secret_access_key = os.environ.get('aws_secret_access_key')\n",
        "aws_session_token = os.environ.get('aws_session_token')\n",
        "bucket = os.environ.get('aws_bucket_source')\n",
        "region = os.environ.get('aws_region')"
      ],
      "metadata": {
        "id": "EPGhzRZh74jw"
      },
      "execution_count": 9,
      "outputs": []
    },
    {
      "cell_type": "code",
      "source": [
        "session = boto3.Session(\n",
        "        aws_access_key_id = aws_access_key_id,\n",
        "        aws_secret_access_key = aws_secret_access_key,\n",
        "        aws_session_token = aws_session_token,\n",
        "        region_name = region)\n",
        "s3 = session.resource('s3')\n",
        "rekognition = session.client('rekognition')"
      ],
      "metadata": {
        "id": "cy63T2Dq9rKz"
      },
      "execution_count": 11,
      "outputs": []
    },
    {
      "cell_type": "code",
      "source": [
        "file = 'familia.jpg'\n",
        "key = 'familia.jpg'\n",
        "try:\n",
        "  s3.Object(bucket, key).upload_file(file)\n",
        "except Exception as e:\n",
        "  print(e)"
      ],
      "metadata": {
        "id": "TAmRrPj0-rG5"
      },
      "execution_count": 12,
      "outputs": []
    },
    {
      "cell_type": "code",
      "source": [
        "try:\n",
        "  response = rekognition.detect_faces(Image={'S3Object': {'Bucket': bucket, 'Name': key}}, Attributes=['ALL'])\n",
        "except Exception as e:\n",
        "  print(e)"
      ],
      "metadata": {
        "id": "6Pbn9HO9_PtF"
      },
      "execution_count": 13,
      "outputs": []
    },
    {
      "cell_type": "code",
      "source": [
        "response"
      ],
      "metadata": {
        "id": "ulM8E7JM_cm4"
      },
      "execution_count": null,
      "outputs": []
    },
    {
      "cell_type": "code",
      "source": [
        "img = Image.open(file)\n",
        "img_cv2 = cv2.cvtColor(np.array(img), cv2.COLOR_RGB2RGBA)\n",
        "\n",
        "height, width, _ = img_cv2.shape\n",
        "\n",
        "for faceDetail in response['FaceDetails']:\n",
        "  box = faceDetail['BoundingBox']\n",
        "  x = int(width * box['Left'])\n",
        "  y = int(height * box['Top'])\n",
        "  w = int(width * box['Width'])\n",
        "  h = int(height * box['Height'])\n",
        "  roi = img_cv2[y:y+h, x:x+w]\n",
        "  roi = cv2.GaussianBlur(roi, (83, 83), 30)\n",
        "  img_cv2[y:y+roi.shape[0], x:x+roi.shape[1]] = roi\n",
        "cv2.imwrite('familia_blur.jpg', img_cv2)"
      ],
      "metadata": {
        "id": "4dqpxXb_AT51"
      },
      "execution_count": null,
      "outputs": []
    }
  ]
}